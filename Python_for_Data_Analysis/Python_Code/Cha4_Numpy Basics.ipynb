{
 "cells": [
  {
   "cell_type": "markdown",
   "metadata": {},
   "source": [
    "# Cha4 Numpy Basics: Array and Vectorized Computation"
   ]
  },
  {
   "cell_type": "code",
   "execution_count": 1,
   "metadata": {},
   "outputs": [],
   "source": [
    "import numpy as np"
   ]
  },
  {
   "cell_type": "code",
   "execution_count": 2,
   "metadata": {},
   "outputs": [
    {
     "data": {
      "text/plain": [
       "array([[20, 30, 40],\n",
       "       [40, 50, 60]])"
      ]
     },
     "execution_count": 2,
     "metadata": {},
     "output_type": "execute_result"
    }
   ],
   "source": [
    "data = np.array([[2,3,4],[4,5,6]])\n",
    "data*10"
   ]
  },
  {
   "cell_type": "code",
   "execution_count": 3,
   "metadata": {},
   "outputs": [
    {
     "data": {
      "text/plain": [
       "(2, 3)"
      ]
     },
     "execution_count": 3,
     "metadata": {},
     "output_type": "execute_result"
    }
   ],
   "source": [
    "data.shape"
   ]
  },
  {
   "cell_type": "code",
   "execution_count": 4,
   "metadata": {},
   "outputs": [
    {
     "data": {
      "text/plain": [
       "dtype('int32')"
      ]
     },
     "execution_count": 4,
     "metadata": {},
     "output_type": "execute_result"
    }
   ],
   "source": [
    "data.dtype"
   ]
  },
  {
   "cell_type": "markdown",
   "metadata": {},
   "source": [
    "## 4.1 ndarray\n",
    "### 4.1.1 Creating ndarray"
   ]
  },
  {
   "cell_type": "code",
   "execution_count": 6,
   "metadata": {},
   "outputs": [
    {
     "data": {
      "text/plain": [
       "array([6. , 7.5, 8. , 0. , 1. ])"
      ]
     },
     "execution_count": 6,
     "metadata": {},
     "output_type": "execute_result"
    }
   ],
   "source": [
    "data1 = [6,7.5,8,0,1]\n",
    "arr1 = np.array(data1)\n",
    "arr1"
   ]
  },
  {
   "cell_type": "code",
   "execution_count": 9,
   "metadata": {},
   "outputs": [
    {
     "data": {
      "text/plain": [
       "array([[1, 2, 3, 4],\n",
       "       [5, 6, 7, 8]])"
      ]
     },
     "execution_count": 9,
     "metadata": {},
     "output_type": "execute_result"
    }
   ],
   "source": [
    "data2 = [[1,2,3,4],[5,6,7,8]]\n",
    "arr2 = np.array(data2)\n",
    "arr2"
   ]
  },
  {
   "cell_type": "code",
   "execution_count": 10,
   "metadata": {},
   "outputs": [
    {
     "data": {
      "text/plain": [
       "2"
      ]
     },
     "execution_count": 10,
     "metadata": {},
     "output_type": "execute_result"
    }
   ],
   "source": [
    "arr2.ndim"
   ]
  },
  {
   "cell_type": "code",
   "execution_count": 11,
   "metadata": {},
   "outputs": [
    {
     "data": {
      "text/plain": [
       "(2, 4)"
      ]
     },
     "execution_count": 11,
     "metadata": {},
     "output_type": "execute_result"
    }
   ],
   "source": [
    "arr2.shape"
   ]
  },
  {
   "cell_type": "code",
   "execution_count": 12,
   "metadata": {},
   "outputs": [
    {
     "data": {
      "text/plain": [
       "dtype('int32')"
      ]
     },
     "execution_count": 12,
     "metadata": {},
     "output_type": "execute_result"
    }
   ],
   "source": [
    "arr2.dtype"
   ]
  },
  {
   "cell_type": "code",
   "execution_count": 13,
   "metadata": {},
   "outputs": [
    {
     "data": {
      "text/plain": [
       "array([[0., 0., 0.],\n",
       "       [0., 0., 0.]])"
      ]
     },
     "execution_count": 13,
     "metadata": {},
     "output_type": "execute_result"
    }
   ],
   "source": [
    "#create a (2,3) ndarray with 0s\n",
    "np.zeros((2,3))"
   ]
  },
  {
   "cell_type": "code",
   "execution_count": 14,
   "metadata": {},
   "outputs": [
    {
     "data": {
      "text/plain": [
       "array([[1., 1., 1., 1.]])"
      ]
     },
     "execution_count": 14,
     "metadata": {},
     "output_type": "execute_result"
    }
   ],
   "source": [
    "#create a (1,4)ndarray with 1s\n",
    "np.ones((1,4))"
   ]
  },
  {
   "cell_type": "code",
   "execution_count": 16,
   "metadata": {},
   "outputs": [
    {
     "data": {
      "text/plain": [
       "array([[[1.46524926e-311, 3.16202013e-322],\n",
       "        [0.00000000e+000, 0.00000000e+000],\n",
       "        [1.89146896e-307, 4.31181435e-033]],\n",
       "\n",
       "       [[1.06144942e-046, 1.46605010e-075],\n",
       "        [2.23239670e+180, 1.65615171e-047],\n",
       "        [1.00517899e-070, 2.67897793e-032]]])"
      ]
     },
     "execution_count": 16,
     "metadata": {},
     "output_type": "execute_result"
    }
   ],
   "source": [
    "#create a (2,3,2) ndarray with random elements. \n",
    "np.empty((2,3,2))"
   ]
  },
  {
   "cell_type": "code",
   "execution_count": 19,
   "metadata": {},
   "outputs": [
    {
     "data": {
      "text/plain": [
       "array([ 0,  1,  2,  3,  4,  5,  6,  7,  8,  9, 10, 11, 12, 13, 14])"
      ]
     },
     "execution_count": 19,
     "metadata": {},
     "output_type": "execute_result"
    }
   ],
   "source": [
    "#array-valued range\n",
    "np.arange(15)"
   ]
  },
  {
   "cell_type": "code",
   "execution_count": 21,
   "metadata": {},
   "outputs": [
    {
     "data": {
      "text/plain": [
       "[0, 1, 2, 3, 4, 5, 6, 7, 8, 9, 10, 11, 12, 13, 14]"
      ]
     },
     "execution_count": 21,
     "metadata": {},
     "output_type": "execute_result"
    }
   ],
   "source": [
    "list(range(15))"
   ]
  },
  {
   "cell_type": "code",
   "execution_count": 23,
   "metadata": {},
   "outputs": [
    {
     "data": {
      "text/plain": [
       "array([[1., 0.],\n",
       "       [0., 1.]])"
      ]
     },
     "execution_count": 23,
     "metadata": {},
     "output_type": "execute_result"
    }
   ],
   "source": [
    "#create a square N*N identity matrix\n",
    "np.eye(2)"
   ]
  },
  {
   "cell_type": "markdown",
   "metadata": {},
   "source": [
    "### 4.1.2 Data Types for ndarrays"
   ]
  },
  {
   "cell_type": "code",
   "execution_count": 28,
   "metadata": {},
   "outputs": [
    {
     "data": {
      "text/plain": [
       "array([['1', '2'],\n",
       "       ['3', '4']], dtype='<U1')"
      ]
     },
     "execution_count": 28,
     "metadata": {},
     "output_type": "execute_result"
    }
   ],
   "source": [
    "data2 = [['1','2'],['3','4']]\n",
    "arr2 = np.array(data2)\n",
    "arr2"
   ]
  },
  {
   "cell_type": "code",
   "execution_count": 29,
   "metadata": {},
   "outputs": [
    {
     "data": {
      "text/plain": [
       "dtype('<U1')"
      ]
     },
     "execution_count": 29,
     "metadata": {},
     "output_type": "execute_result"
    }
   ],
   "source": [
    "arr2.dtype"
   ]
  },
  {
   "cell_type": "code",
   "execution_count": 32,
   "metadata": {},
   "outputs": [
    {
     "data": {
      "text/plain": [
       "array([[1., 2.],\n",
       "       [3., 4.]], dtype=float16)"
      ]
     },
     "execution_count": 32,
     "metadata": {},
     "output_type": "execute_result"
    }
   ],
   "source": [
    "#use arr.astype() to change data type of the ndarray\n",
    "arr2 = arr2.astype(np.float16)\n",
    "arr2"
   ]
  },
  {
   "cell_type": "markdown",
   "metadata": {},
   "source": [
    "### 4.1.3 Operations Between Arrays and Scalars"
   ]
  },
  {
   "cell_type": "code",
   "execution_count": 37,
   "metadata": {},
   "outputs": [
    {
     "data": {
      "text/plain": [
       "array([[1.    , 0.5   ],\n",
       "       [0.3333, 0.25  ]], dtype=float16)"
      ]
     },
     "execution_count": 37,
     "metadata": {},
     "output_type": "execute_result"
    }
   ],
   "source": [
    "1/arr2"
   ]
  },
  {
   "cell_type": "markdown",
   "metadata": {},
   "source": [
    "### 4.1.4 Basic Indexing and Slicing"
   ]
  },
  {
   "cell_type": "code",
   "execution_count": 39,
   "metadata": {},
   "outputs": [
    {
     "data": {
      "text/plain": [
       "array([0, 1, 2, 3, 4, 5, 6, 7, 8, 9])"
      ]
     },
     "execution_count": 39,
     "metadata": {},
     "output_type": "execute_result"
    }
   ],
   "source": [
    "arr3 = np.arange(10)\n",
    "arr3"
   ]
  },
  {
   "cell_type": "code",
   "execution_count": 40,
   "metadata": {},
   "outputs": [
    {
     "data": {
      "text/plain": [
       "array([2, 3, 4])"
      ]
     },
     "execution_count": 40,
     "metadata": {},
     "output_type": "execute_result"
    }
   ],
   "source": [
    "#1-dimensional array slicing: the same as list\n",
    "arr3[2:5]"
   ]
  },
  {
   "cell_type": "code",
   "execution_count": 41,
   "metadata": {},
   "outputs": [
    {
     "data": {
      "text/plain": [
       "array([ 0,  1,  2,  3,  4,  5,  6,  7, 10, 10])"
      ]
     },
     "execution_count": 41,
     "metadata": {},
     "output_type": "execute_result"
    }
   ],
   "source": [
    "arr3[8:]=10\n",
    "arr3"
   ]
  },
  {
   "cell_type": "code",
   "execution_count": 47,
   "metadata": {},
   "outputs": [
    {
     "data": {
      "text/plain": [
       "array([1000, 1000, 1000,    3,    4,    5,    6,    7,   10,   10])"
      ]
     },
     "execution_count": 47,
     "metadata": {},
     "output_type": "execute_result"
    }
   ],
   "source": [
    "#array slices are views on the original array. This means that\n",
    "#the data is not copied, and any modifications to the view will be reflected in the source array\n",
    "arr_sl = arr3[:3]\n",
    "arr_sl[:3]=1000\n",
    "arr3              #changing arr_sl will also change arr3"
   ]
  },
  {
   "cell_type": "code",
   "execution_count": 49,
   "metadata": {},
   "outputs": [
    {
     "name": "stdout",
     "output_type": "stream",
     "text": [
      "[8888 8888 8888] [1000 1000 1000    3    4    5    6    7   10   10]\n"
     ]
    }
   ],
   "source": [
    "#arr.copy() to really copy the array\n",
    "arr_s = arr3[:3].copy()\n",
    "arr_s[:3]=8888\n",
    "#changing arr_s will not change arr3 because of the copy. \n",
    "print(arr_s,arr3)"
   ]
  },
  {
   "cell_type": "code",
   "execution_count": 50,
   "metadata": {},
   "outputs": [
    {
     "data": {
      "text/plain": [
       "array([1, 2, 3])"
      ]
     },
     "execution_count": 50,
     "metadata": {},
     "output_type": "execute_result"
    }
   ],
   "source": [
    "#the same features apply to multidimensional array as well.\n",
    "arr2d = np.array([[1, 2, 3], [4, 5, 6], [7, 8, 9]])\n",
    "arr2d[0]"
   ]
  },
  {
   "cell_type": "code",
   "execution_count": 51,
   "metadata": {},
   "outputs": [
    {
     "data": {
      "text/plain": [
       "array([[1, 2, 3],\n",
       "       [4, 5, 6]])"
      ]
     },
     "execution_count": 51,
     "metadata": {},
     "output_type": "execute_result"
    }
   ],
   "source": [
    "arr3d = np.array([[[1, 2, 3], [4, 5, 6]], [[7, 8, 9], [10, 11, 12]]])\n",
    "arr3d[0]"
   ]
  },
  {
   "cell_type": "code",
   "execution_count": 52,
   "metadata": {},
   "outputs": [
    {
     "data": {
      "text/plain": [
       "array([[[888, 888, 888],\n",
       "        [888, 888, 888]],\n",
       "\n",
       "       [[  7,   8,   9],\n",
       "        [ 10,  11,  12]]])"
      ]
     },
     "execution_count": 52,
     "metadata": {},
     "output_type": "execute_result"
    }
   ],
   "source": [
    "arr3d[0]=888\n",
    "arr3d"
   ]
  },
  {
   "cell_type": "code",
   "execution_count": 53,
   "metadata": {},
   "outputs": [
    {
     "data": {
      "text/plain": [
       "array([10, 11, 12])"
      ]
     },
     "execution_count": 53,
     "metadata": {},
     "output_type": "execute_result"
    }
   ],
   "source": [
    "arr3d[1,1]"
   ]
  },
  {
   "cell_type": "code",
   "execution_count": 54,
   "metadata": {},
   "outputs": [
    {
     "data": {
      "text/plain": [
       "12"
      ]
     },
     "execution_count": 54,
     "metadata": {},
     "output_type": "execute_result"
    }
   ],
   "source": [
    "arr3d[1,1,2]"
   ]
  },
  {
   "cell_type": "code",
   "execution_count": 56,
   "metadata": {},
   "outputs": [
    {
     "data": {
      "text/plain": [
       "array([[[888, 888, 888],\n",
       "        [888, 888, 888]],\n",
       "\n",
       "       [[  7,   8,   9],\n",
       "        [ 10,  11,  12]]])"
      ]
     },
     "execution_count": 56,
     "metadata": {},
     "output_type": "execute_result"
    }
   ],
   "source": [
    "arr3d"
   ]
  },
  {
   "cell_type": "code",
   "execution_count": 58,
   "metadata": {},
   "outputs": [
    {
     "data": {
      "text/plain": [
       "array([[[10, 11, 12]]])"
      ]
     },
     "execution_count": 58,
     "metadata": {},
     "output_type": "execute_result"
    }
   ],
   "source": [
    "arr3d[1:,1:]"
   ]
  },
  {
   "cell_type": "markdown",
   "metadata": {},
   "source": [
    "### 4.1.5 Boolean Indexing"
   ]
  },
  {
   "cell_type": "code",
   "execution_count": 59,
   "metadata": {},
   "outputs": [],
   "source": [
    "names = np.array(['Bob', 'Joe', 'Will', 'Bob', 'Will', 'Joe', 'Joe'])"
   ]
  },
  {
   "cell_type": "code",
   "execution_count": 62,
   "metadata": {},
   "outputs": [
    {
     "data": {
      "text/plain": [
       "array([[-1.56992665, -1.00001343, -0.86964957, -0.3993106 ],\n",
       "       [ 0.2822295 , -1.21674227, -1.42109866, -0.9266151 ],\n",
       "       [ 0.684471  ,  0.60672401,  1.08628593,  1.22635205],\n",
       "       [ 0.34954163, -1.37691162, -0.50209029,  0.68999291],\n",
       "       [ 0.16649509, -1.25837929,  0.0261368 , -0.69970378],\n",
       "       [-1.25257818, -0.12620997, -2.04252086,  2.0648896 ],\n",
       "       [-0.12513561, -2.23069525,  1.59048565, -0.08139282]])"
      ]
     },
     "execution_count": 62,
     "metadata": {},
     "output_type": "execute_result"
    }
   ],
   "source": [
    "data = np.random.randn(7,4)\n",
    "data"
   ]
  },
  {
   "cell_type": "code",
   "execution_count": 63,
   "metadata": {},
   "outputs": [
    {
     "data": {
      "text/plain": [
       "array([[-1.56992665, -1.00001343, -0.86964957, -0.3993106 ],\n",
       "       [ 0.34954163, -1.37691162, -0.50209029,  0.68999291]])"
      ]
     },
     "execution_count": 63,
     "metadata": {},
     "output_type": "execute_result"
    }
   ],
   "source": [
    "data[names=='Bob']"
   ]
  },
  {
   "cell_type": "code",
   "execution_count": 64,
   "metadata": {},
   "outputs": [
    {
     "data": {
      "text/plain": [
       "array([[ 0.2822295 , -1.21674227, -1.42109866, -0.9266151 ],\n",
       "       [ 0.684471  ,  0.60672401,  1.08628593,  1.22635205],\n",
       "       [ 0.16649509, -1.25837929,  0.0261368 , -0.69970378],\n",
       "       [-1.25257818, -0.12620997, -2.04252086,  2.0648896 ],\n",
       "       [-0.12513561, -2.23069525,  1.59048565, -0.08139282]])"
      ]
     },
     "execution_count": 64,
     "metadata": {},
     "output_type": "execute_result"
    }
   ],
   "source": [
    "data[names!='Bob']"
   ]
  },
  {
   "cell_type": "code",
   "execution_count": 67,
   "metadata": {},
   "outputs": [
    {
     "data": {
      "text/plain": [
       "array([[ 0.2822295 , -1.21674227, -1.42109866, -0.9266151 ],\n",
       "       [ 0.684471  ,  0.60672401,  1.08628593,  1.22635205],\n",
       "       [ 0.16649509, -1.25837929,  0.0261368 , -0.69970378],\n",
       "       [-1.25257818, -0.12620997, -2.04252086,  2.0648896 ],\n",
       "       [-0.12513561, -2.23069525,  1.59048565, -0.08139282]])"
      ]
     },
     "execution_count": 67,
     "metadata": {},
     "output_type": "execute_result"
    }
   ],
   "source": [
    "data[~(names=='Bob')]"
   ]
  },
  {
   "cell_type": "code",
   "execution_count": 68,
   "metadata": {},
   "outputs": [
    {
     "data": {
      "text/plain": [
       "array([[-1.42109866, -0.9266151 ],\n",
       "       [ 1.08628593,  1.22635205],\n",
       "       [ 0.0261368 , -0.69970378],\n",
       "       [-2.04252086,  2.0648896 ],\n",
       "       [ 1.59048565, -0.08139282]])"
      ]
     },
     "execution_count": 68,
     "metadata": {},
     "output_type": "execute_result"
    }
   ],
   "source": [
    "data[~(names=='Bob'),2:]"
   ]
  },
  {
   "cell_type": "code",
   "execution_count": 69,
   "metadata": {},
   "outputs": [
    {
     "data": {
      "text/plain": [
       "array([[ 0.2822295 , -1.21674227, -1.42109866, -0.9266151 ],\n",
       "       [ 0.684471  ,  0.60672401,  1.08628593,  1.22635205],\n",
       "       [ 0.16649509, -1.25837929,  0.0261368 , -0.69970378],\n",
       "       [-1.25257818, -0.12620997, -2.04252086,  2.0648896 ],\n",
       "       [-0.12513561, -2.23069525,  1.59048565, -0.08139282]])"
      ]
     },
     "execution_count": 69,
     "metadata": {},
     "output_type": "execute_result"
    }
   ],
   "source": [
    "#and or don't work with boolean arrays, use | & instead\n",
    "con = (names=='Joe')|(names=='Will')\n",
    "data[con]"
   ]
  },
  {
   "cell_type": "code",
   "execution_count": 70,
   "metadata": {},
   "outputs": [
    {
     "data": {
      "text/plain": [
       "array([-1.56992665, -1.00001343, -0.86964957, -0.3993106 , -1.21674227,\n",
       "       -1.42109866, -0.9266151 , -1.37691162, -0.50209029, -1.25837929,\n",
       "       -0.69970378, -1.25257818, -0.12620997, -2.04252086, -0.12513561,\n",
       "       -2.23069525, -0.08139282])"
      ]
     },
     "execution_count": 70,
     "metadata": {},
     "output_type": "execute_result"
    }
   ],
   "source": [
    "data[data<0]"
   ]
  },
  {
   "cell_type": "code",
   "execution_count": 72,
   "metadata": {},
   "outputs": [
    {
     "data": {
      "text/plain": [
       "array([[0.        , 0.        , 0.        , 0.        ],\n",
       "       [0.2822295 , 0.        , 0.        , 0.        ],\n",
       "       [0.684471  , 0.60672401, 1.08628593, 1.22635205],\n",
       "       [0.34954163, 0.        , 0.        , 0.68999291],\n",
       "       [0.16649509, 0.        , 0.0261368 , 0.        ],\n",
       "       [0.        , 0.        , 0.        , 2.0648896 ],\n",
       "       [0.        , 0.        , 1.59048565, 0.        ]])"
      ]
     },
     "execution_count": 72,
     "metadata": {},
     "output_type": "execute_result"
    }
   ],
   "source": [
    "data[data<0] = 0\n",
    "data"
   ]
  },
  {
   "cell_type": "code",
   "execution_count": 73,
   "metadata": {},
   "outputs": [
    {
     "data": {
      "text/plain": [
       "array([[8.        , 8.        , 8.        , 8.        ],\n",
       "       [0.2822295 , 0.        , 0.        , 0.        ],\n",
       "       [0.684471  , 0.60672401, 1.08628593, 1.22635205],\n",
       "       [8.        , 8.        , 8.        , 8.        ],\n",
       "       [0.16649509, 0.        , 0.0261368 , 0.        ],\n",
       "       [0.        , 0.        , 0.        , 2.0648896 ],\n",
       "       [0.        , 0.        , 1.59048565, 0.        ]])"
      ]
     },
     "execution_count": 73,
     "metadata": {},
     "output_type": "execute_result"
    }
   ],
   "source": [
    "data[names=='Bob']=8\n",
    "data"
   ]
  },
  {
   "cell_type": "code",
   "execution_count": 74,
   "metadata": {},
   "outputs": [
    {
     "data": {
      "text/plain": [
       "array([[8.        , 8.        , 8.        , 8.        ],\n",
       "       [0.2822295 , 0.        , 0.        , 0.        ],\n",
       "       [0.684471  , 0.60672401, 1.08628593, 1.22635205],\n",
       "       [8.        , 8.        , 8.        , 8.        ],\n",
       "       [0.16649509, 0.        , 0.0261368 , 0.        ],\n",
       "       [0.        , 0.        , 0.        , 2.0648896 ],\n",
       "       [0.        , 0.        , 1.59048565, 0.        ]])"
      ]
     },
     "execution_count": 74,
     "metadata": {},
     "output_type": "execute_result"
    }
   ],
   "source": [
    "#Selecting data from an array by boolean indexing always creates a copy of the data,even if the returned array is unchanged.\n",
    "test = data[names=='Bob']\n",
    "test = 16\n",
    "data"
   ]
  },
  {
   "cell_type": "code",
   "execution_count": 75,
   "metadata": {},
   "outputs": [],
   "source": [
    "#the boolean dimension and ndarry dimension have to be the same. \n",
    "names = np.array(['Bob', 'Joe', 'Will', 'Bob', 'Will', 'Joe', 'Joe'])\n",
    "data = np.random.randn(4,4)"
   ]
  },
  {
   "cell_type": "code",
   "execution_count": 76,
   "metadata": {},
   "outputs": [
    {
     "ename": "IndexError",
     "evalue": "boolean index did not match indexed array along dimension 0; dimension is 4 but corresponding boolean dimension is 7",
     "output_type": "error",
     "traceback": [
      "\u001b[1;31m---------------------------------------------------------------------------\u001b[0m",
      "\u001b[1;31mIndexError\u001b[0m                                Traceback (most recent call last)",
      "\u001b[1;32m<ipython-input-76-e744c03e9e77>\u001b[0m in \u001b[0;36m<module>\u001b[1;34m\u001b[0m\n\u001b[1;32m----> 1\u001b[1;33m \u001b[0mdata\u001b[0m\u001b[1;33m[\u001b[0m\u001b[0mnames\u001b[0m\u001b[1;33m==\u001b[0m\u001b[1;34m'Joe'\u001b[0m\u001b[1;33m]\u001b[0m\u001b[1;33m\u001b[0m\u001b[1;33m\u001b[0m\u001b[0m\n\u001b[0m",
      "\u001b[1;31mIndexError\u001b[0m: boolean index did not match indexed array along dimension 0; dimension is 4 but corresponding boolean dimension is 7"
     ]
    }
   ],
   "source": [
    "data[names=='Joe']"
   ]
  },
  {
   "cell_type": "code",
   "execution_count": 77,
   "metadata": {},
   "outputs": [
    {
     "ename": "IndexError",
     "evalue": "boolean index did not match indexed array along dimension 0; dimension is 4 but corresponding boolean dimension is 7",
     "output_type": "error",
     "traceback": [
      "\u001b[1;31m---------------------------------------------------------------------------\u001b[0m",
      "\u001b[1;31mIndexError\u001b[0m                                Traceback (most recent call last)",
      "\u001b[1;32m<ipython-input-77-5738b16f7ddc>\u001b[0m in \u001b[0;36m<module>\u001b[1;34m\u001b[0m\n\u001b[1;32m----> 1\u001b[1;33m \u001b[0mdata\u001b[0m\u001b[1;33m[\u001b[0m\u001b[0mnames\u001b[0m\u001b[1;33m==\u001b[0m\u001b[1;34m'Bob'\u001b[0m\u001b[1;33m]\u001b[0m\u001b[1;33m\u001b[0m\u001b[1;33m\u001b[0m\u001b[0m\n\u001b[0m",
      "\u001b[1;31mIndexError\u001b[0m: boolean index did not match indexed array along dimension 0; dimension is 4 but corresponding boolean dimension is 7"
     ]
    }
   ],
   "source": [
    "data[names=='Bob']"
   ]
  },
  {
   "cell_type": "markdown",
   "metadata": {},
   "source": [
    "### 4.1.6 Fancy Indexing"
   ]
  },
  {
   "cell_type": "code",
   "execution_count": 8,
   "metadata": {},
   "outputs": [
    {
     "data": {
      "text/plain": [
       "array([[0., 0., 0., 0.],\n",
       "       [1., 1., 1., 1.],\n",
       "       [2., 2., 2., 2.],\n",
       "       [3., 3., 3., 3.],\n",
       "       [4., 4., 4., 4.],\n",
       "       [5., 5., 5., 5.]])"
      ]
     },
     "execution_count": 8,
     "metadata": {},
     "output_type": "execute_result"
    }
   ],
   "source": [
    "import numpy as np\n",
    "arr = np.empty((6,4))\n",
    "for i in range(6):\n",
    "    arr[i] = i\n",
    "arr"
   ]
  },
  {
   "cell_type": "code",
   "execution_count": 9,
   "metadata": {},
   "outputs": [
    {
     "data": {
      "text/plain": [
       "array([[1., 1., 1., 1.],\n",
       "       [5., 5., 5., 5.],\n",
       "       [4., 4., 4., 4.]])"
      ]
     },
     "execution_count": 9,
     "metadata": {},
     "output_type": "execute_result"
    }
   ],
   "source": [
    "#simply pass a list or ndarray of integers specifying the desired order:\n",
    "arr[[1,5,4]]"
   ]
  },
  {
   "cell_type": "code",
   "execution_count": 10,
   "metadata": {},
   "outputs": [
    {
     "data": {
      "text/plain": [
       "array([[3., 3., 3., 3.],\n",
       "       [1., 1., 1., 1.]])"
      ]
     },
     "execution_count": 10,
     "metadata": {},
     "output_type": "execute_result"
    }
   ],
   "source": [
    "#Using negative indices select rows from the end\n",
    "arr[[-3,-5]]"
   ]
  },
  {
   "cell_type": "code",
   "execution_count": 15,
   "metadata": {},
   "outputs": [
    {
     "data": {
      "text/plain": [
       "array([[ 0,  1,  2,  3],\n",
       "       [ 4,  5,  6,  7],\n",
       "       [ 8,  9, 10, 11],\n",
       "       [12, 13, 14, 15],\n",
       "       [16, 17, 18, 19],\n",
       "       [20, 21, 22, 23],\n",
       "       [24, 25, 26, 27],\n",
       "       [28, 29, 30, 31]])"
      ]
     },
     "execution_count": 15,
     "metadata": {},
     "output_type": "execute_result"
    }
   ],
   "source": [
    "arr = np.arange(32).reshape((8,4))\n",
    "arr"
   ]
  },
  {
   "cell_type": "code",
   "execution_count": 16,
   "metadata": {},
   "outputs": [
    {
     "data": {
      "text/plain": [
       "array([ 4, 13])"
      ]
     },
     "execution_count": 16,
     "metadata": {},
     "output_type": "execute_result"
    }
   ],
   "source": [
    "#the result = arr[(1,0)] & arr[(3,1)] \n",
    "arr[[1,3],[0,1]]"
   ]
  },
  {
   "cell_type": "code",
   "execution_count": 25,
   "metadata": {},
   "outputs": [
    {
     "data": {
      "text/plain": [
       "array([[ 4,  5],\n",
       "       [12, 13]])"
      ]
     },
     "execution_count": 25,
     "metadata": {},
     "output_type": "execute_result"
    }
   ],
   "source": [
    "#the way to select a square region, different from the one above:\n",
    "arr[[1,3]][:,[0,1]]"
   ]
  },
  {
   "cell_type": "code",
   "execution_count": 26,
   "metadata": {},
   "outputs": [
    {
     "data": {
      "text/plain": [
       "array([[ 4,  5],\n",
       "       [12, 13]])"
      ]
     },
     "execution_count": 26,
     "metadata": {},
     "output_type": "execute_result"
    }
   ],
   "source": [
    "#using np.ix_ to get the same result by selecting a square region:\n",
    "arr[np.ix_([1,3],[0,1])]"
   ]
  },
  {
   "cell_type": "markdown",
   "metadata": {},
   "source": [
    "### 4.1.6 Transposing and Swapping Array"
   ]
  },
  {
   "cell_type": "code",
   "execution_count": 29,
   "metadata": {},
   "outputs": [
    {
     "data": {
      "text/plain": [
       "array([[ 0,  1,  2,  3],\n",
       "       [ 4,  5,  6,  7],\n",
       "       [ 8,  9, 10, 11]])"
      ]
     },
     "execution_count": 29,
     "metadata": {},
     "output_type": "execute_result"
    }
   ],
   "source": [
    "arr = np.arange(12).reshape((3,4))\n",
    "arr"
   ]
  },
  {
   "cell_type": "code",
   "execution_count": 30,
   "metadata": {},
   "outputs": [
    {
     "data": {
      "text/plain": [
       "array([[ 0,  4,  8],\n",
       "       [ 1,  5,  9],\n",
       "       [ 2,  6, 10],\n",
       "       [ 3,  7, 11]])"
      ]
     },
     "execution_count": 30,
     "metadata": {},
     "output_type": "execute_result"
    }
   ],
   "source": [
    "#Transposing\n",
    "arr.T"
   ]
  },
  {
   "cell_type": "code",
   "execution_count": 31,
   "metadata": {},
   "outputs": [
    {
     "data": {
      "text/plain": [
       "array([[ 14,  38,  62],\n",
       "       [ 38, 126, 214],\n",
       "       [ 62, 214, 366]])"
      ]
     },
     "execution_count": 31,
     "metadata": {},
     "output_type": "execute_result"
    }
   ],
   "source": [
    "#computing the inner matrix product XTX using np.dot\n",
    "np.dot(arr,arr.T)"
   ]
  },
  {
   "cell_type": "code",
   "execution_count": 32,
   "metadata": {},
   "outputs": [
    {
     "data": {
      "text/plain": [
       "array([[[ 0,  1,  2,  3],\n",
       "        [ 4,  5,  6,  7]],\n",
       "\n",
       "       [[ 8,  9, 10, 11],\n",
       "        [12, 13, 14, 15]]])"
      ]
     },
     "execution_count": 32,
     "metadata": {},
     "output_type": "execute_result"
    }
   ],
   "source": [
    "arr = np.arange(16).reshape((2, 2, 4))\n",
    "arr"
   ]
  },
  {
   "cell_type": "code",
   "execution_count": 33,
   "metadata": {},
   "outputs": [
    {
     "data": {
      "text/plain": [
       "array([[[ 0,  1,  2,  3],\n",
       "        [ 8,  9, 10, 11]],\n",
       "\n",
       "       [[ 4,  5,  6,  7],\n",
       "        [12, 13, 14, 15]]])"
      ]
     },
     "execution_count": 33,
     "metadata": {},
     "output_type": "execute_result"
    }
   ],
   "source": [
    "#For higher dimensional arrays, transpose will accept a tuple of axis numbers to permute the axes\n",
    "arr.transpose((1, 0, 2))"
   ]
  },
  {
   "cell_type": "code",
   "execution_count": 35,
   "metadata": {},
   "outputs": [
    {
     "data": {
      "text/plain": [
       "array([[[ 0,  4],\n",
       "        [ 1,  5],\n",
       "        [ 2,  6],\n",
       "        [ 3,  7]],\n",
       "\n",
       "       [[ 8, 12],\n",
       "        [ 9, 13],\n",
       "        [10, 14],\n",
       "        [11, 15]]])"
      ]
     },
     "execution_count": 35,
     "metadata": {},
     "output_type": "execute_result"
    }
   ],
   "source": [
    "#arr.T is a special case of arr.swapaxes.\n",
    "arr.swapaxes(1,2)"
   ]
  },
  {
   "source": [
    "## 4.2 Universal Functions: Fast Element-wise Array Functions"
   ],
   "cell_type": "markdown",
   "metadata": {}
  },
  {
   "cell_type": "code",
   "execution_count": 36,
   "metadata": {},
   "outputs": [
    {
     "data": {
      "text/plain": [
       "array([0, 1, 2, 3, 4, 5, 6, 7, 8, 9])"
      ]
     },
     "execution_count": 36,
     "metadata": {},
     "output_type": "execute_result"
    }
   ],
   "source": [
    "arr = np.arange(10)\n",
    "arr"
   ]
  },
  {
   "cell_type": "code",
   "execution_count": 37,
   "metadata": {},
   "outputs": [
    {
     "data": {
      "text/plain": [
       "array([0.        , 1.        , 1.41421356, 1.73205081, 2.        ,\n",
       "       2.23606798, 2.44948974, 2.64575131, 2.82842712, 3.        ])"
      ]
     },
     "execution_count": 37,
     "metadata": {},
     "output_type": "execute_result"
    }
   ],
   "source": [
    "np.sqrt(arr)"
   ]
  },
  {
   "cell_type": "code",
   "execution_count": 38,
   "metadata": {},
   "outputs": [
    {
     "data": {
      "text/plain": [
       "array([1.00000000e+00, 2.71828183e+00, 7.38905610e+00, 2.00855369e+01,\n",
       "       5.45981500e+01, 1.48413159e+02, 4.03428793e+02, 1.09663316e+03,\n",
       "       2.98095799e+03, 8.10308393e+03])"
      ]
     },
     "execution_count": 38,
     "metadata": {},
     "output_type": "execute_result"
    }
   ],
   "source": [
    "np.exp(arr)"
   ]
  },
  {
   "cell_type": "code",
   "execution_count": 42,
   "metadata": {},
   "outputs": [
    {
     "name": "stdout",
     "output_type": "stream",
     "text": [
      "[-0.78603208 -0.42644553 -0.33913205 -0.33694152  0.28347007  0.63655634\n",
      "  1.62051896 -0.17159606 -0.21971768  1.87358015] [-0.49006499  0.52034803 -0.81398938  0.25132747  0.1517171  -0.0048776\n",
      " -0.63151183 -0.82107553  1.76792108 -1.22637048]\n"
     ]
    }
   ],
   "source": [
    "arr1 = np.random.randn(10)\n",
    "arr2 = np.random.randn(10)\n",
    "print(arr1, arr2)"
   ]
  },
  {
   "cell_type": "code",
   "execution_count": 43,
   "metadata": {},
   "outputs": [
    {
     "data": {
      "text/plain": [
       "array([-0.49006499,  0.52034803, -0.33913205,  0.25132747,  0.28347007,\n",
       "        0.63655634,  1.62051896, -0.17159606,  1.76792108,  1.87358015])"
      ]
     },
     "execution_count": 43,
     "metadata": {},
     "output_type": "execute_result"
    }
   ],
   "source": [
    "#take 2 arrays(thus, binary ufuncs) and return a single array as the result\n",
    "np.maximum(arr1,arr2)"
   ]
  },
  {
   "cell_type": "code",
   "execution_count": 44,
   "metadata": {},
   "outputs": [
    {
     "data": {
      "text/plain": [
       "(array([-0.78603208, -0.42644553, -0.33913205, -0.33694152,  0.28347007,\n",
       "         0.63655634,  0.62051896, -0.17159606, -0.21971768,  0.87358015]),\n",
       " array([-0., -0., -0., -0.,  0.,  0.,  1., -0., -0.,  1.]))"
      ]
     },
     "execution_count": 44,
     "metadata": {},
     "output_type": "execute_result"
    }
   ],
   "source": [
    "#it returns the fractional and integral parts of a floating point array:\n",
    "np.modf(arr1)"
   ]
  },
  {
   "cell_type": "code",
   "execution_count": 45,
   "metadata": {},
   "outputs": [
    {
     "data": {
      "text/plain": [
       "array([0.78603208, 0.42644553, 0.33913205, 0.33694152, 0.28347007,\n",
       "       0.63655634, 1.62051896, 0.17159606, 0.21971768, 1.87358015])"
      ]
     },
     "execution_count": 45,
     "metadata": {},
     "output_type": "execute_result"
    }
   ],
   "source": [
    "np.abs(arr1)"
   ]
  },
  {
   "cell_type": "code",
   "execution_count": 46,
   "metadata": {},
   "outputs": [
    {
     "data": {
      "text/plain": [
       "array([-0., -0., -0., -0.,  1.,  1.,  2., -0., -0.,  2.])"
      ]
     },
     "execution_count": 46,
     "metadata": {},
     "output_type": "execute_result"
    }
   ],
   "source": [
    "np.ceil(arr1)"
   ]
  },
  {
   "cell_type": "code",
   "execution_count": 47,
   "metadata": {},
   "outputs": [
    {
     "data": {
      "text/plain": [
       "array([False, False,  True, False,  True,  True,  True,  True, False,\n",
       "        True])"
      ]
     },
     "execution_count": 47,
     "metadata": {},
     "output_type": "execute_result"
    }
   ],
   "source": [
    "np.greater(arr1,arr2)"
   ]
  },
  {
   "cell_type": "code",
   "execution_count": 48,
   "metadata": {},
   "outputs": [
    {
     "data": {
      "text/plain": [
       "array([-0.49006499,  0.52034803, -0.33913205,  0.25132747,  0.28347007,\n",
       "        0.63655634,  1.62051896, -0.17159606,  1.76792108,  1.87358015])"
      ]
     },
     "execution_count": 48,
     "metadata": {},
     "output_type": "execute_result"
    }
   ],
   "source": [
    "arr3 = np.random.randn(10)\n",
    "np.maximum(arr1,arr2,arr3)"
   ]
  },
  {
   "source": [
    "## 4.3 Array-Oriented Programming with Arrays"
   ],
   "cell_type": "markdown",
   "metadata": {}
  },
  {
   "cell_type": "code",
   "execution_count": 3,
   "metadata": {},
   "outputs": [],
   "source": [
    "import numpy as np\n",
    "points = np.arange(-5,5,0.01)\n",
    "xs,ys = np.meshgrid(points, points)\n",
    "#The  np.meshgrid  function  takes  two  1D  arrays  andproduces two 2D matrices corresponding to all pairs of (x, y) in the two arrays"
   ]
  },
  {
   "cell_type": "code",
   "execution_count": 4,
   "metadata": {},
   "outputs": [
    {
     "output_type": "execute_result",
     "data": {
      "text/plain": [
       "array([[-5.  , -5.  , -5.  , ..., -5.  , -5.  , -5.  ],\n",
       "       [-4.99, -4.99, -4.99, ..., -4.99, -4.99, -4.99],\n",
       "       [-4.98, -4.98, -4.98, ..., -4.98, -4.98, -4.98],\n",
       "       ...,\n",
       "       [ 4.97,  4.97,  4.97, ...,  4.97,  4.97,  4.97],\n",
       "       [ 4.98,  4.98,  4.98, ...,  4.98,  4.98,  4.98],\n",
       "       [ 4.99,  4.99,  4.99, ...,  4.99,  4.99,  4.99]])"
      ]
     },
     "metadata": {},
     "execution_count": 4
    }
   ],
   "source": [
    "ys"
   ]
  },
  {
   "cell_type": "code",
   "execution_count": 5,
   "metadata": {},
   "outputs": [
    {
     "output_type": "execute_result",
     "data": {
      "text/plain": [
       "array([[-5.  , -4.99, -4.98, ...,  4.97,  4.98,  4.99],\n",
       "       [-5.  , -4.99, -4.98, ...,  4.97,  4.98,  4.99],\n",
       "       [-5.  , -4.99, -4.98, ...,  4.97,  4.98,  4.99],\n",
       "       ...,\n",
       "       [-5.  , -4.99, -4.98, ...,  4.97,  4.98,  4.99],\n",
       "       [-5.  , -4.99, -4.98, ...,  4.97,  4.98,  4.99],\n",
       "       [-5.  , -4.99, -4.98, ...,  4.97,  4.98,  4.99]])"
      ]
     },
     "metadata": {},
     "execution_count": 5
    }
   ],
   "source": [
    "xs"
   ]
  },
  {
   "cell_type": "code",
   "execution_count": 7,
   "metadata": {},
   "outputs": [
    {
     "output_type": "execute_result",
     "data": {
      "text/plain": [
       "array([[7.07106781, 7.06400028, 7.05693985, ..., 7.04988652, 7.05693985,\n",
       "        7.06400028],\n",
       "       [7.06400028, 7.05692568, 7.04985815, ..., 7.04279774, 7.04985815,\n",
       "        7.05692568],\n",
       "       [7.05693985, 7.04985815, 7.04278354, ..., 7.03571603, 7.04278354,\n",
       "        7.04985815],\n",
       "       ...,\n",
       "       [7.04988652, 7.04279774, 7.03571603, ..., 7.0286414 , 7.03571603,\n",
       "        7.04279774],\n",
       "       [7.05693985, 7.04985815, 7.04278354, ..., 7.03571603, 7.04278354,\n",
       "        7.04985815],\n",
       "       [7.06400028, 7.05692568, 7.04985815, ..., 7.04279774, 7.04985815,\n",
       "        7.05692568]])"
      ]
     },
     "metadata": {},
     "execution_count": 7
    }
   ],
   "source": [
    "z = np.sqrt(xs**2+ys**2)\n",
    "z"
   ]
  },
  {
   "cell_type": "code",
   "execution_count": 11,
   "metadata": {},
   "outputs": [
    {
     "output_type": "execute_result",
     "data": {
      "text/plain": [
       "Text(0.5, 1.0, 'Image plot of $\\\\sqrt{x^2+y^2}$ for a grid of values')"
      ]
     },
     "metadata": {},
     "execution_count": 11
    },
    {
     "output_type": "display_data",
     "data": {
      "text/plain": "<Figure size 432x288 with 2 Axes>",
      "image/svg+xml": "<?xml version=\"1.0\" encoding=\"utf-8\" standalone=\"no\"?>\r\n<!DOCTYPE svg PUBLIC \"-//W3C//DTD SVG 1.1//EN\"\r\n  \"http://www.w3.org/Graphics/SVG/1.1/DTD/svg11.dtd\">\r\n<!-- Created with matplotlib (https://matplotlib.org/) -->\r\n<svg height=\"269.878125pt\" version=\"1.1\" viewBox=\"0 0 298.902 269.878125\" width=\"298.902pt\" xmlns=\"http://www.w3.org/2000/svg\" xmlns:xlink=\"http://www.w3.org/1999/xlink\">\r\n <metadata>\r\n  <rdf:RDF xmlns:cc=\"http://creativecommons.org/ns#\" xmlns:dc=\"http://purl.org/dc/elements/1.1/\" xmlns:rdf=\"http://www.w3.org/1999/02/22-rdf-syntax-ns#\">\r\n   <cc:Work>\r\n    <dc:type rdf:resource=\"http://purl.org/dc/dcmitype/StillImage\"/>\r\n    <dc:date>2020-11-03T10:55:27.967246</dc:date>\r\n    <dc:format>image/svg+xml</dc:format>\r\n    <dc:creator>\r\n     <cc:Agent>\r\n      <dc:title>Matplotlib v3.3.2, https://matplotlib.org/</dc:title>\r\n     </cc:Agent>\r\n    </dc:creator>\r\n   </cc:Work>\r\n  </rdf:RDF>\r\n </metadata>\r\n <defs>\r\n  <style type=\"text/css\">*{stroke-linecap:butt;stroke-linejoin:round;}</style>\r\n </defs>\r\n <g id=\"figure_1\">\r\n  <g id=\"patch_1\">\r\n   <path d=\"M 0 269.878125 \r\nL 298.902 269.878125 \r\nL 298.902 0 \r\nL 0 0 \r\nz\r\n\" style=\"fill:none;\"/>\r\n  </g>\r\n  <g id=\"axes_1\">\r\n   <g id=\"patch_2\">\r\n    <path d=\"M 33.2875 246 \r\nL 250.7275 246 \r\nL 250.7275 28.56 \r\nL 33.2875 28.56 \r\nz\r\n\" style=\"fill:#ffffff;\"/>\r\n   </g>\r\n   <g clip-path=\"url(#p45bf9977f6)\">\r\n    <image height=\"218\" id=\"image57b9d735a5\" transform=\"scale(1 -1)translate(0 -218)\" width=\"218\" x=\"33.2875\" xlink:href=\"data:image/png;base64,\r\niVBORw0KGgoAAAANSUhEUgAAANoAAADaCAYAAADAHVzbAAA4sUlEQVR4nO2d4XLcsI6sZcfv/75btXHun4ucdk830KDkJKdqWeUSBYIUSfETQGhm/Pb5+fnr169fF/59fn6+nF/XZcu7P667/buuy7aRyNR5tYdlleejK3P6XMZ5dY79+Y70/v7+5fzt7c2eq3wnU8dOhv1hXXfuZNymKk/+TuvXOFTdF9nPnz+/gPYvQabqu/YmvevqAdtAdgIbX98lrnOaGCaXEMInIKtjIpuA28p4cSu9FLgUvBS2jxSyFLDPz8/HAOvacGUsv66vFhHLVb6TdUfMd0BN1i0tUwmh4LrOiqm+vr+/X79+/bre3t5+t1P5zRHz1SfsB167FiXqIQBKxqnawwW+SW9vb9fn5+f1/v5+fX5+vsDkron1uKxkv0FzkCWAoc53WLEOLFeGE58AdgcyB5aCkPOdbJtUG7hQUcbnmOfxMHjJsa7pwHPXROCwDYaGwUMLphZ9mlT9DXQOto9TyFTZd0GWQldyB9gGrC1cCVQMwncBd10eMJSpcwSlZGx5Utg6i+bgq4WpAGO4uqSsW+oGdrAWdA44B9sX1zGBrJPXZHR6W8CcXJXfASyBzMHFxzSvztMylSbXkaFTwDl3sZKydilsyqJx+3iNWrAKOhyngqb6v7FuaLmmutuyD+X2nUK2gSuBLAWv29OxDM+nfI0J28ajkp0CtoVKJdXG5DpO+Q48dvkYsrruZNHU+XW9Asd6iWW760pOQDnrxvW+7NFKYQvZFq5TyBREaWQSZU6/jspyOaA66Lq8Oneyk5S6jkkeZW4/5tzL1KK5827/xklBiNYJ20j2XJWq7o8fP2z5BNsHLqzvgmx6ZZAANUGqdCYZ5531miC7A5uTdXKX7riOXX5zVHu6E8BYxpbJQTXNTxfo6MB7e3u7fv78eb2/v0cWjOUf06I/hSzdy23/TkP/KMN85xpuINvAps6dbJNUfWXF+PwpyBgWtiR13RQ4BY5yJzcp2Xs54NR4uK76cMDn5+f1cV3/cZeegGwqq+vdgSwBawIusV5byCbY+Dx5gf1kKpeu0ndAdl3Xi+wEuEoKvNS6ub96T5a8H3Pg4Fi4v9zO7/B+CszPnz9/N7YBDBf2nYCJu3YKl2tryp8cMT8BxTcnLePkXCe1j8KEADqIsB08OoumwEuAY1kH3ql1w5fM1+X3XqjLn6Bx127D++nir4FuANu030G26dNTgCmI7oCldF35SeL67CaiDM9VyF7BpQBMYOP8BFxi1bj/d1zJ2nt1ezS+xhY2adFSN3JyE//UC+zpQVDJ6bmyyneymlhODiqG4TuAU4CVnAFSQDnwUtiq3S4/WaUOLqWXvKDuAh0FxyZkP/Uf0wfD8qcgu7OX68pQZ4pMduc4WUqmXgHwBN+BLSnDxK6XKkOoFHDOTXShewWQAo/zqK+AS6yagnCybl2EkesmIXusx/2179E2QExBEgdK6maquglYqg3VFsvwvMtPcN2BzcnSpOo619EBx3mGqYPOWbm6vgIM+47AJe6kSxtXkq3XHdh+/vz5stfDeW9Bewqyzfs2rrv5m4ImLO/OcaKmVwDdscurcyfbpG5vdgJZCp2zcolFw5QEObg+/yWBDrxeAadgU66kgq27t/ZrMpsAhoMsbaOLZnZ/fC3VRiLD88rfgWsLm5N1ck6T68jQJZBhu3jsoFMfCHbwYX8ZOlzwDqpkTjDQ0e3Trus/8CirmNwzroPnNhhSDTkQ70I2uZkbyHHQCZQdcF3wRF2HJzyFLTnfJFVXWTE+nyBDmdt3ocwBNwHGY1HtnaTUQlXC8smNTGQ1l/bT++ki30LGVjO91uaB0MF1AlgCWQId59U59+Uk4R6nUmLVti5kty9TwOGYE6uGfZ2sG/65l8zqo1dTOH+Czd0/vgdfPlSMCzeJRm4gU+1hvQRSV1e1k0CHC8JBdAKZAwvzKUzqRqqEi7NrmxfAKWQKtmpX9aVzKZ0ryOWpdVPRRQUb6nZBjw421SZeq44vn96fFqwD8w5k2/3g1M+uvMo2gJ1AlkClIErBSuo5y8Ap+WRICptzEzvgcAzTPswB0yUEL40kslxZKey3Ggda4Q+1kBJQElicrAaQwnX6MFBj6yKTKJvy3VEtZrwZLt/dvE3ivVjJECaUc3+TF9R1rOt0eQcc60wBDtTFdqYgB6ctbAzOZNVwngty+1MGmwX/XZBtAiZT+QlgCqQULi7v8uo8LavE+x2W4813+Toq8KrsxKIlwPF43f6Lx4yLf9qrYdrApqKR3f3DNmo+xq/JnCzqDpqtzp2ASdVTbWzOVb4mlCdawZTC5mRJ4nqJVZuAqyOOk9+XbQDjc2WZEsvG4+ygSQIeiRznp9pV5er88xO+JnMKTGLNEgvp5Nv+dfVVWyzrzmvSeDLdcZK5cydLkgMMZRNwzkVkMLBM5TuLhrJp38W6bLGm+knAQ13T6b29vX4SpLunv13HFIITq5SG+idIUnez6nSQKjnL8LwmGidxguwJ2JKyupFOF0Hi8xQyPk5WLgWM++msm7Nw7C5OQZITdxGTm0elz/d6BM0t/LTO02Un/ez63elO1usubMl5klSdE9dxC1vV7QIcfN5ZtRSYLlVfut/3UNZtAkvpTHBhPgLNQdZZrw7MPwnZBNYGsBPIusl3N9TJknTqOp7ChvkJOJY5S8VBhzTAgfW73/e4rsyKJVbNhf3XoOHi3UQLq6MpSOnnHdOASdIW63Tu4R3IUsDUa4G7iSNkHWQl46Pbs6m8Ao7LOTFMXTtpdBHrOx31MOusFJ9zuP8WaKWYAnBiySbINnu5k7FMgClwEhmX4w1ySd38k1QLWl2LLY4Dz1kvJeO82nPhGJM9WPUp2Xsp6LBuug9jeQJeXcftlUfQti5eZ/22kKWBF1V3A90UmXRlOJlOhjeOk4LRlW9S5zpW3sHnIJtgq+u5PZlyA7djSvdtvAc7ga1zCR14HByJQdsu4pNFfxeyDVBdf5UOy/Bc1UMZL+TuBjg9Tl2Ze5JOezPU4yhiAlu1rSwa9idxJ5M/tpBphHGCTd0HfkA4fQdhBNoJNKifWDMFWfK+7al3a6qNSdblHVx87PKdrEtKn5+wykXEPO7JJugmi4bnDmh2J9PE0HTAOdh4vlwQRLmENTaVd9ewoFXhZvFu9LeQJfu/DWTJWDu9yqdwTbCpcyebknMdJ8j4WOUMXbWtLJo6Zxm7kyeJ63fAKdhwLNhHdf721r+c5rzbr8nvo30nZGoRuzbS1wVTP2rCu/oOOpRVfnq/lhzVzX066ui+EoN55U7iUUE3feWFz5VFUNYt+es+DZIEN5yV6oIe0/6L82qev3x6/zv2ZWlQZAvZ9lVDClYHXBeddDIu53ZUYgC3qRaRuw67g1UHZZ2ruAEOx6TA21o3tF53YJt+TEc9BJP3Zaxfso9pgW0X8EmkcgPZxoLeDf2XbAr/qzwe3YLvbqyTdcm5jazD/dlGHBlkF1F0cKl+b11JBC6FjeeF51eBovo4gYbzU3n5r3Wr0nZhTot+q9e9Luj+XDQz7TNeEydxA9lJ5LEDy5XxwuYytbhcgOK6dr/bWMkBp+Dict63VTvKXVSpFnMC26TTgVf9VvsvziNwlf/AiXoaGgVM2s4Gss1eLnloJIDxpHI9NfEpYB1wnJQuWzYFS8kRpg46B54DDvvHQHXJQZNCt/kIFetMoFX/JjmWV/sf05OeyzYLeRuOV9HFJFByB7I7gFX+JDiibsh3JHR10j1ZlTN0yqLxubJM29S5kpuQfvUPE5/jtbq6Ch6UO/hK/8tPgpfStBC3CzcB5bsgU7pOj+Xd+Z3IYwcVL4SpLNn7cHLBkDp20KWf0GdYVHn3514uV3JlfN3EXdzsv/AaP378aEHDuV198XOje6J/F7KtS6uAmcbhAFNQdWC5m6jOu9TBxxBVPgmGuIDIBBz2S+mnye29WMftw05cwmT/xfPiyllmXUeW3d3HJfusqf00ankCdjp+lKt8HZNgyATYBri6oVxPuYuoe7ovS/Zj2IdtVBFTXUt9x8ztw1KXEMscPJh3dVU5yl5eWFfBtCCV3imUHCVMgToJyjho3B/e6A4w1lWTfwIbJmWJXF1l1Th/si9jmKb9mIOzcxlVenvT775qXrqPUHUuIZ8reFygo3MhuU70xc9STsqfiPo9AVnnenbX68bC9er8bwVD0joqILIJhkwfveIF3UUZE3fQAdfB5uCZXEI+V3C6e4bzxuU83+3vOtbAVdkpNAzB1sWcdKaytH88aRvAJsgcILwAnEwlZU0w6oUpeUGNwCBwKMc+bvZjiSvpgHOwdUEPhmGKLrI3oEDCNtGCunsugyEo43Klv13IG/0UxCf2gJ0eyrb7tboZmNTN4zwnLuue0mo/VnnngnZBkDQQkrqIqDf9D+kUNp6DDVw8Zy6YwvcVH2boDbyA1kE0hf5R9h2QpTCdupFdf1Tf3N5O1avJ725sB1gHXKeT7M1Qb9qXVVsdcEonDYAUNHXd6XOKWG+aMzzn/kz3Q7mQncVSZTiPNuq4CRgkILpFnbqBW8g+P/OX5cm+bQoI4XjcDZwAU+Bs9mHcRgdZLQAEanITO+Cc65rC5iKEOA93PlJVfU/gQX2UT1C5wMivX00wpBSSsmRBY/mkm4LwJyBLLF3dZLxJE2R4UzeBEAYpaWMbDDkBrnsxrVxJZaEQNqWTwDY9xJL9F+a7ED4D5x5sX0Djxut8gu/EZXwCsk4/ATMFzOmU/In9Gt9kda6S0nFRPkzpp/Wxr3cDIQxkwYRAKZ3ps4qJS8j5SZ+B6SwV6zuLOQZDHGBdmdOfFq8KfJRuEhRxkHXtbuBG2Z39mrpZakGoc5f4SV0yvOF15D0ZQ1btKIvZfUJ/chVdOVqwDpzSVe4iL3Cuy/PS6bOss1R4VMGpOr4EQ6bQttNN/pTudI207e+G7ASwCa4UNlXGlosXEuuqBYP38Lqyf4frLBfqdlHHZB827dnUfFUdtdhVnvW7YAb2LQEOx1HXegmGYF4tpE5X1S3Zicu4KdtCtgWwJnAaM+p1czYths2+DRM/pR1kKGNAqh21J6v6CiZMk/W6A5vbl3Ekcsp3gRDWw76rNtgjYF37UwZ87Ba700kXsYIy0a+/5Md+qs0U0q5c6Sbzp8qwnkqo1yVloSqlwZAOJOyPC4SoPnXlG9h4HroHVLpfS6OQSZnTlXs0zE9AYKc7aBJoT6B013KQnV5va+ncfGL5FAxJ4XL11b4JUxcM6aKPynLheNwL6hPYGIbOVeaxp/u1GmdnqVRfKjDiHlqq3x/dYnHHbuGWTrLIk/oJmHch21g5lHX7WTzH+VU3Wy0GdT6lbrEkwZCqq1xGthQcDEmAuq78E/goe3t75iffeE46GZcpmDZ1ov9hrRagu1CnOwH15D4ugWwaYzoHKWDTDeJ8J8PEgOHNdje+5GpfhiBhcoEQvObkSqafwO/Gw2Uq7/SdLloqpe90O1ccr/PymyHpsfvb6KaL+xSG74KsA2wDl1oAp4GQSm7PgYDV0e3Lqk+d5eLydN/m/qWSC3Ko8gQ6jv5hOcu6BxPW6+TqWH0YfzOkW2TuAumCRFnah67tAmhyCbt2t2NXOmo+3LxVP1XihTalJCCy3ZdxfyYdHpMCyu27qp57Yb3Zf7nrdMBx2w68E6v25Z/Fb4/dX1KnZE/u404sWfJvo7ryukmo0+W7YIiCawLOuY6YP92Xlb5yJRPrVW28vb3+SyXlRqr9IM5DBw/mXYDCrU1ub7JaW6v2MSlOi801rHTVwkssRQILt5UGRe5C1gVE3LyoOevyU1KAqQVX58m+jIHrPqnfBTqwvrJQDBvrdhB1cpS5EL7Sn3RPrdr44zzYiQ5EB9Ik79pj2Qbgu5ClAE5jvRMM2cCGi4LPk2BI9x2z63oN4atru6+7TLDxOHEhO8ulrJ6aOxyvm3cXwJiObp+njh9JgzwJ3bFzRd1i7UBPdR1Mrl73v9m+IyCymecngiHVZnfzEaptIEQlBgqBc/urGu/2kx5sUVw9XJcuMDLpplatazdyHTd7KKzXlePkJW107XbBkZq4CTIOpNwBnsem8nxjOfFiTBO7hpVwwTvYpiAHLq7S6axXjY1hU+27fdm0X1MgKuDYQiYBjPRBlRyjXyp2A3ELZgLXwev6MQU4VFlX56StpL1pv6nmSi0gNedJ4oWF8m5fVtdxwLFlwzbRehV0CWzsfjqL1+2xsO0p0MFgJmtZRSBV2zh+B5v8KQO+oLtQuoBTeDtdd51tX1zIX4F0auVcf5P9GufVOSfegzBwCBRDhIBVGwzc5gU1Lnxnjbb7MpYrENlSoR5DsX3ZnFotvN6LRVMdSqDaAMnHxBVNdLt92R3IUO+OK4ljwBs3zRHnp+QW8WZfxsBhe8q6qb1XJQWb0+ExOHdQAdRZKld216qlUHKdNhiygccd3cJM6nWWwkX9tq7kBrIJQNcXp+du7hOpe0HNUE2BEGXd2F1MYOOHx2ZfptpJyhR4d6yag65r89evxqJtYEqe6qr96a+ro2TftV9jS3gSEOnmNgmG8HkltkAl4zZdFA3rd4EQbNcFMibYtvsyjiiy6+jKpj3ZJN8A1NXFo7Ro7iZPiz45dm3i8SQA4vS7dtT5E5B118fxuflQc6YS66gnsnMTqz4Cp/ZWaLm2sFX/3t70J/C7fZmaiy740Vm8BKAUPnfs6rxYNLXQnc4WyGRv1i1OnvgEgJN9XLXTQdaVqX4owNzY7rqP7pMN3Da/fEaolHVDdzGFDceV7L8wr6BiMO8GMJJjElWsNeCsn/0pAz66RT8tMJ5s137apgIE23UPiwlKDoo4kFxARV0H++/GhP1Uc+TOKzl3DBNbMdRLAiGbL20ybF0QhB8uzoVUUHVrZxuWL/kEErZxy6Jx3pVtQEyBVPUdUNwOLn6sq9o52cedQrYBTD2UtpaNLVkdlRWrBeD2ZVWuYMGkyrDt9L1YtZVA1e2duA+bowNJtenacdZPWrRucagFMT097gJZx26hc/sb+Dp5Atm2X27eEsvmUmLJOrBQjtatFk6VJ1/aZCDUYlXjT6DCNro15KxaCqUCSO3pUstmLVoCWS0wV6+OHTyb49THdJErfXU+gaTAdNepdtzcuLFVctZNhcHryJasbjoDx3W6qGPyDWnMu32ZciGVtWOopsWfAIRlU1Sxs4LqGu660qLxpGBeLYRp4Xf1ExDcwnb6SrZ1Gbd96eqxrBaam7+NyzgBqMBi4LrPKnJysHE9XB9dUKML4TNUHYAbgFKQUKdSUl/1/8WiPeU2cl61mYLo2lDHDXzY5lOQqXawLRd1dJZNzQEnF8SohFZLAafcRpQxdAo2BwT2xy3Y0sG5UFBxvcSlU3VUG2pfxe3xtVzbqk8v79Ew38kmt1EtfC5LYHKLOwWK+5BA467t9N23AbgdHJ+S8VxsgyHXle/LWNZZN65bZdxX9XKaFyHXdYGRmovEVewAwq+wpNaLj6ovW335yZA7sg6krqwDp7uWa0Ndr4Ov8g4m178NZB102Cc15iRt9mWofwpbFwRxD44p2ugAZFixjckiJWDgGFL3Uemrtq7ryiyaAsTpcRmeT6AoHRdIQX0HFC9ydY0EphPIPj9fP6zM41GAuQXaJf4Ux3V591G5iuo8gc3ty5QL2UHVLX6WT8ELngduw8HWwYpt1PVV3zq9D7xh0w1PFoZbVJ1+EpXkxXwHSLRa3GeWYbts7bhtdjNdO1OfHVj88OJ9FyYVTUT5ZM1KvxaL2meVvgtqdFCxbGvVJig7MLt2HMAnMmyvfWHdwbaVucXc6Xftd3US+LBPCiIHk9PfQKb65YIh3Gelc13+i55dlDE552uoOWR5AtWd74Qp63MXKCVTZW7sSg/LW9cR8+qGP6HXlaWWaxNp7AIrrJ+6khNk3XU2+7UkTfsybFu5jvxJEHYjHYidC+mgUroJQBNIExR3AZxk6rrvOFhW4PxGto02bssUUHhMrFnXpoIM2y2A2LXEOg7Az8/P6+fPn9ItVXs7bAP/1DxUWbWPdX/+/Pmiq+pymdJz11ZzNulu7y3ew+6+umu5Np/Qw/yXPfKdyh0UUznftFTfyZRcLdQJqK4+y08g66BTi/vnz5+//xg0LHNAJHBNsE311NzwPXb3J7mPk2ezAaq7z1PdSdaVvz/RyJN1kslVMtQ9sWZ1VGAoeLAtVb+DzIGOcOGCV33hBY7wYVtVhhZOnSuIXN4tUDU+Lu9gdfdTXYvva6fPOt3a6MqVbrquX1zHpy5wp9MnT6Sp7GRv5+ormDrIlCunFrpyG9HSoQVDS+WskgLOLfQEIp4rBYq7b4lV60DidvE8AeppT6zLq6Q/0BY2dNIRlE3u6kaW3OwToJSucxlV3sHD585tRFeRk3IjuZ3EVdw+PNzcOwAngJKFvfVw0nY5n65JdZ2u/XfVyGknusF2neiu4wBw/XnalXTXTiBzUHXnar+G0PAfL2bel1XdO66iyzN407ymrmJ3v75L9mQ5phrLF4u2aeA7OquefkkdV3d6QmI9tei5TbVIN/lujzRFIRVwXK72ZQqoU9jcfG/3Wif3666My7r83XKl+35dswV6uqOT7pOyUzjdgqmkoNjk8fpTW86CKchQVv1MYUsfFGpeUoDu3K9J5q7x3RAluu+TwqaxPzXg737yucWjFiY+pJ5wJSeAlOuoXEIuL+tW/UwfDDiu7bx1+yqGn9vbytQ1kvp312ei++uX2aO5yok8ueh17SYjnUwnczdbyXjBq7Gqp7mCL4FMQaTKFUBcV5Vj39A97VxFHKd72GC5mis3NzyfT8ieLOc5mHQnDiqt92gT9U+6oSfl6saqOtsFMG3aJ/jcglV/k0u4AYxhS/Ziam4Sq6ZkXIbniV4i20A0lX/XWn8J76eEbjt4Wm9TPslPF4CDS/Vvu3fr/hxMznXsdCbwMd8BWDI1P063q78BppO59K+s5/g92obepBNO565u+hQ6kbkndgcflysXdQKks1yJRWP56V5s2nN18zRBdHf/9aTV2rYxpc/PzzkY8vQT4Yn2lOzkpqQy5bMnriRbiw6yzqI5wJRFS/7UmFKrdWcepzWxWTOJEVDp1GC4lPa5tWinjX53e9+9D3SyyW1UfXB7t81fFzSZAiodbNx+9XeCzsnUPHeyRPf0/m7g2177ZL2/P004picmIenf5gZMadNu9S+By1kzZ8UmoFjm4HSAYT95bBN03YNmurffdV+29f7UWq98ZNH+VGefgP6JJ6d6WqvyTtZZwK11m4IeWwu5gW6SufmY5vPpe/3EWkyMwWnbK9cxTd8JZtLG1PZmQp2LlC5ElinI+Hxj6djKTUClVqubBzVPT9zzv7F/esJAJMl+TeZPduJPgfl05PQ0gpkC1oGlANvszdy4TyzZdt6evq+J/Om0HduRRdu4CN+dnu7LE+11T/zEykzgJVCl18b8Zu/89IJO5v07Ifpu6/ctruN1/X0rue3L0+7JtM9L4ZpgU68RuqMba2K1NnOUWJy/YX0S+XekbwMtSf8SjEn6LjATALdu4tT+nTF8Z6R6m/729dP0V0Hbpn91IpOAycYV66xdYsW21/uXwMH0L21R7qb/KtAw/e1FcCdtLAyX37Fa/w1z9t/Qx5P0Xwva/6WviX+48//Sv5X+a0H7b1tY/JPdU55l9Qu++DfV2V7rX0j/DX08Sf8kaG6C/6WJx750/x0zbUPlGbL6yW78RxUMnQJw6gf/h5i03p9Mbr7/pT526WNWeTbxjSyf/G9PmPoHDic6leo37JM28Dfc+ffceV54/jor18Hb5ZOx3W3jO9K//IB+1KL9Szcg6csT/UpdP8x3UCh40KKp/B3YpnRqPZJF/7cB+JN9aUH7lybrO/uSgKjcw43LmCx8Bxe6i5zvwNwCuHlQJnN9CubfdhOT9bDty0dVQhfuT4RY3TWfcCdde+jOTeOc+uT6WddwMnQRuT28tuuTkm3hwqP639QqTQ+a6V497VX8q0bAPjD+5MX+hKu2bWNaLM5qTe1WXZZtXEW2bIlsa+FUn/i/hTq903KXvnPr8afWp0t2Ff0NcE4n+o416PrhFhGXOxnW3UCB7qJyG50rece6pa5xKnP3VclO19R3rtGnof/YuFPbhO1h3kXkVHL9m/rKk+MifV2fu74kMlzM2Ob05O/6pNzVU2um3Ea2wlvLNi3Qpx+K/wqYU3ujX/R0507b21i+u67NqUy5imjp0PKULLFufFQW7gQ0voYbn5rvzqV+AqCp/HSNnG4F7q7931f9m0+JJ25M6p6cQKpcyY2rWLIOMOUuOsi6MgcqQ7aBC8fEMjU2N49JeVdH9Ytlp+tus+ZP2ovD+0+8T/mugd+xSteloVFwlW5ntdR1cO4qn1ohB5IL8ysYO8hc/sTapfO4lan7oOa5S08YgdM23t/fX0H7rgs/qbupP8lY3tVNrBa7ikoX5R1gnbuoQNyA6/LXpa0ZHl15N1d3Ze56k/xU92kw3xOlTeOnTyF1Ezc34ckb3C0+VZ/Lnds4AaIsUWetUvdRtYX9cvnU2qn56+Zb3b9UdmcdbNp3upg2Luv75sJO56TDGyBTt2Irw0UyuX8oT6BSumqh1rUZkG7PpqBUeede1jXVHJ3s3dz8uTk9gXNT3tVJ6qt9YLK2OzBlMESlU+qffNps20yerHjTnW4Ko9uvYP7Hjx9frssgOkulyh1wCGz1pYMM2+p0krmc5v3kwXf6IOW+bABKy116WRtdx558Sribk9T/Lhk/Ydk9ui59wxmQbi+mgPrx48eXMj5XkHUWzh2r/w46l3dzMgHKgJ883L5Dtlmnaf2t7mqPdhfIk8E/IZsAUvXdotm4jR1saoG6/ZlyHVlfAYUAq3PX986CMXzdnLN82tNNkN6RdX3dtLkpx3k42qOdALnpdLcn62S8mNW1uqepOzqrhvWdhUtgw3oIEPe5g676yUCVXIGkwNq4j+phwdDwfCdze3JfN7KkvKuTlLPuyxc/397mT9V3uqnsul4/1Z5cp86VDL8wqWR4XjcPP97FfXKThzoqX4sC28FrYR0cC8p+/fr1ez+XfCzOPbDUwlZwctm0d2Og+BqqT6qP3EY3HjeWSaZA7ebM6akxdroo+8DCCTK1iLk8gZHzda7AcLCoftexFrKSub6q6/DEIpQKHMwzhFzGcF3Xdf348eN3n/Dzk1Wu5lalFDB3nrjEVQdlrDPpJq4kj9UtZCeb2tjK3HUn3Y8UjgTC6Ttb3df1WY8XNsOSAOQmjJ90zqpxGyjvJtiB586v63oZK0JX5R1YbrzONUshS6yZA4qPqMdz1tWf2nRj3wK40duW/3YdOzcOZQqAFJQ7evxAcDfNuYqpVasj9ktZc56zHz9+XD9//rRAKcuFfVHuJvav3EiXeC4UYCXfQKbcSj6/Ax/3XdVXus5q85g7IO7IknKUvXzDGgtPLNlTMr5xCUBYNlm6DVS8UNGqJq5iLYqCy7XFlqyzYipNls2B0p1Put01JvhYvgWSZU4nBXC7j5v6hnq/XUdW7CBjPVdHtZcCdeIq8mSqyU0B5GthewgQH69LB0HUOY6r6uF8pcGQ7onKi1/JUiunzjs5tzUtdCV3ezuly2tpmqMJ4ESvGwvK7G+GOBk22sGj9Nw1Jvexm7ytq6jaYwBxgnhfNgFUC8u5kThf6iFyXa+WTN3ALk1uI4/jLmRqPlGfx+CsWdfuFkilk8LzHbIvwZDtPm2r56Dsooiq7S6A4QZc58pSJU8nt2CcK8j7MIbrul73anwNtmTqm9yqj6qfPA8bq6YWfafb6Tv41Byf7u1cG107ndv9hOwDBdt9mtPDhaV0lL7TSVzF1KpNE8OWp5Lah3GZ0nXn1/UVGrcvY+BcQIQXLF7HPSC2kP348eMFGKXrFriDAuFzunjc7O34ekqnu1YH7tQG631xHblC5/JhR5SF4k46EDug1M2p/IlVw76r+tgu13UQ8nVxz6bgwvGWDPu3Cetzmhbcdr/mIOsWfQfOXaC6sXUgnULGZXjeXUfV+xIMwQWfglENOnfQWSQFInZwgjC1atwHrDPtv5ycy7kM+8hwJfuyOmJApM45dTe3+lXyCTDUc8BMZdxGJ+d+KF2efzx3i53bnup07W7g7Np4sWhpUMTJFEjYiU7XQT5BxTcDF23pIhzKevOEqTYx38HGCzr9uJWKPqr+TClxG3l8CQAOMmwzsWbcN6XLZZ2u0puOvD4TyJL9npr/6xIWDROD4PZVHUCdlUyCInXsXEXuq9LFtjsQlFxNJFqvbo/m4MLxKhcW+5wmtXCwXw4wnpdTS7Z1GU/hS45KfwOkuu9ujpUuy14sGips9lVbgJxuV64GkUKFujwhzhJd139cui7oUcDVH4KFyUUip2AIjokTLwRMnduI8g68yVp1QZEOzARyHF8KsNPfAql0Ex2nLy1atyfqFv8GoG7garHxYlf96qDi9nlSlCvI7UwRRk7qQXRdr8Dh3KhgCN9Idy0eE9fpIoGdFXPlCjIFSgrCCXzqmFo/nK8NkF277trSork90RagJKCRtHkK1TS5nbwml6OI7C462LjfHXDXlQVDpqRg7J7YVT5BcWLJXFknV33Yurc8F+rYPRTUkfs26aqyF4vWwaLK0qjiprOJVXNtu2ijAojl/MHgrk/oLjJMJcfk3MY63gnrY+os2xYw1FMLcwqKpEGWTq7610UTO8vM7XZzxGtuWrdTOzLqyAv6iajiXavGC6WDCnU2ctUOWrCNq4h9RPBcdBHHgpYsDYhMCwj7qADDc9RzC3UbeeQFO8lVOzw+VSdZ9BMwDvauTvXX6UiLpsLfCUCJbtcmdo4XbQeVijaqtiY5TpYKjig3jxNaLkwIHc6bak+NOU1K3+0vVL7070KmIJngSOSuXTXOzRhOAVUPAKVjLdodgLqOqSghLywFTgfVNNhOvoGtyqqP7Cqi5XKBEDVvOLa6rup/mvjJymPfAMZ6HUjd4t18uoTlU/8dmFzv5Oj2uOk1Kv+Bwg1AmwBG12Z37HRVYKQmZrMv4/ZR/7rmbzafBEKm4/RpEJWmh4o71jimBbuxctNe7kl5CkQ6lgneBEil+8V13ACkLuQCGHx0YXp1Xef2YRkumkTObaogCN4QVYY6DJJ6QHX7MjV2tnZp4jGrI48P++nubbJwnZVzUUvV3iTv+ppAszluXhNM1xpfWD8Vlucjdk51rNsn8mSc7Mt40TnYqqxzFUvmAiE8n9elf7LAjb1kLrGugq3SZr+WWrqtBZr2RxuQ3HVw7FtdNZddPxIg22CIIrZr8MSqOYDw2s5CdRPSydW+7Lp62Fw/uPy6Xn/BioEs99AFVzC/sWxTv7oFyPd7GxDZALgFZnIZN1Am4HQPgw2QeGyDIXV80qpxJ7HzSmeKKHL/HKBcv4NNRQ1VmzhW/OuAU+CpUP5pQKSuzXUnyLB+t3CVzgayk++1TQs+ASxtC9METwrt29vb12AIH9OwvINStZvoOij5+lie7Ne4LQcbt9e5ipxQn4FTc4pHHP8mIOIWiMu7uegWbemoMoSmW8hPfK8thZDH0b0W2Fx36gO3W8eXb1jjERW7sLyCQrXX6U5lNajOzZr2ZS6Un1qvrhwBw/En+zK3P9sGRBxw7qHV7dfUg+x00V+Xhqxb1NyX7fXceddusiZPj5HrWEfsROcabixVB7Cq62DCpNpOYHt7e2vL+BpdCF8Bl3y2UeU3ycGG40F5txhLv1ugqHMXMrzWBqQJnMkSq/Gm7aa6H6dheafXWS+n08Gj4OOJ6T5Rj/US2N7fv37lRcHEIfzr8p9l7PZlvCdT46756tIEZBIVUwsOy9TiKT2nc1I2tcnlXR+nci5zc3H3+P7+Pr+w5iPe3A6qLZRTuQLGlV3X/D2yybKp5FxXBI+vj/Om5rTGyeBVGzy+LmEghOslkGEb04K840q692p32031eTyoq8om3e5Y6aMqJaF2XrgMRGep0hC+K+d8F+Tg8g42DmpsQvju4YPgdJ8KcXNXbW6+IsPj7/LdA2oCrHSfhEzVU0GGkiX7OtUPHo+aj67dRNeN97dF406mVk0dlaVSZQ6eacGwVVKgoV4HW5UlriKH8Kd92XX5T+urOVZzV7IuqYfCBBvOg1qkCWBK79RaTZZqY8m2+tw3nKetrprj36DxwtlYtU63C+GznpJ3C4RhwqSCIBNsKnXlCNjJvmwKhtS5GrtLbo54TFjWLSys4xZeB1ha7oIip5DxPXI63P5UZ4KwG9eH6xzeePXknXT5Rqcy5xJ2i2gLG7qLpyF8tDLOTax+qnlMvuiZAtYl3Ld1cNWR5xXlbsGdQOasXOLuTfqbNqb2+T4k0VBMdf4lvJ9GIBNdvhEMT+JCdjDxgDaw1XnqKnI59gGhS/ZlXTCk8pzcez4eKyZ3w6djtaXgcwuay7pFj3USyP6Ey6j6r2Q8Xj52/Xj5ZEjlOwvldLHMBUY6IDGvwOnAUzqsd8dVrPLreg2EOOBKF3UUZCpf59VemhxgmHdP3zv7tQ0gqtxBtnEjua+TzhbKtH013/aXih04uBhcuNvd4E05tq/K1Hn3dRcE4U4I3wVCWK/y7hevrkv/klfJ1fjS1N1wNd4q6yBD/W5xK52nIJsWuHsxvoFSybsx8fw6gD9UhcpPgY5qtAuMODAT0FjmghmYkk/g19hSV5HdOQTMuYn8YGKIHHg8B1PEMZk3Hj+Xd4uG5w3LeMGh3gTZFOZ3+7oU3gmybv+Zwjfp4ny+/LP46gQuhMl9VDfGwdtZQdVu53JiOabpE/iu7a6cgcQxd/s3d0x/9cr1LU3bYAhfswMMde+4kglk6i95beDqpYBx+2oeEoB/79F4MeAC7oBT7uYUeexcQlXmLKGrM8mVjlvkCiSEjvWuK/sWtQuG1PndND3IpgenAwzPS491TiHrXD/VRtf25Oql8iT0z/OoyuzXZHgRcRnLFJhdvrvJCjw+cprkCEdnAVEPFzwGQrCfDFy3L0uCITz+p1zHDjYeo4OKH3TJviWBbNJJYNpYzERvgkvNSWf5Xv6HNR43IXwFZnezOyvlzp+Arc55X6b06touEKJ0Kn9d2S8RqzzP5yZ1c6naQrjq6BYb1nELarugn4As+Uv7lOirMU+W70swpHP5JndQgdndaNSfoosqRN9BpazWtB9DvevqP8uIcmXhFHj8nszN0wRYCqArT/ds6l4ngLHe6cI/LXuqTuIy8ri7chkMSUP4kwvJN0rlVfsKIlXe7cHYarnPRiIUUwhfQccupYIRjw68auMUIDcHqq57UNaR55rlvIgcOKybQHZi4abXBSfWb6ObWL6XDxXjUQVGphuW6mzAUjoJbFw/Cd3j9Vm35GytNvuybn/2REBEgTiBpeptAePy7aJM/jYh/xNoNuBsZS9Rx27yeaFM4OCFnU563umg9Uqg4z7y+DaBEM53+zIFGbuCnWvI8CkdV9bBxuPkxaLyrJ8svj8BGbu3G+u27SPrd3PxEnV0IJ3uv5yOOnfX5MWgYMOBJ9DVRHTWjcFzbmK3L+v2ZCoAwnPC7mqXpvlU5QouPiaA8Tk/ZO/skU4t2fv77tMlTwVL1N+Hm0zMTy6ky09Wim98AmfpIUgu0KGii85ide/JWMYBE4SGYUPoai6xLiac7278U+rqpMGQOjIsLFcL8HQxpot52t+l152s0dS3tPy6mt8McZZN3ZAu35UpEK/rerFQU8DDBTrShLCovaJ6Vzbty7o9mQuG8NjvJBcIcXl3xLbcIlPn6b5tA1kSicR6aX11rU3fpnFe19X/rqO6Mcn+y+lzmTp3sHWuoAp0uIQgTPux0uV6eH5del+GcNXRgYd6dwIiCtAUMM5v9mu8FjbBhGQhp5HI7toboO/oqzl5f///P86DVmO6AaifgnZdrwsQy9U+DOt0uiph/zqoOKG+Cu+zjspvgyGcr3Oex03qHmYuf139fm3KV/0tVHcWfQdZ0g7WSa97CuUHNnBn/9XdQGw/CeXjTVewJdHF1JVkGFFeZR1wCrYJOhyzsmquz+oh0Y2vA65SEgzB+eB8tdHB5eR3IOuiiycRyhScU/0vL6zVBHf5RB/Pu6CF+5THdfl/CIiAJB+9YqiUhUOdOnfAJbAhdNfVv6DmMW7C+Ul5zQnrbyHDttQC5POpDNvaAPanIbvjYn55YX1n/6XkXR21ALawsZ6CCCFxiQFkWZ2XrPqDephXx+t6fXfWBUR43jaJAyHcVvdw7CDD9lPAlMwtRtT9Ltcv0Z1gPoHy5ZMhm/2X02e9KcyfyBNgujRZN+z3BJwL8V/X9QXwOq+jAq/axHP10wVub9nB2N2TDWzX1UceMd/BxXWeCv0n0ciub1vwTkCWH8G6u1+bbrKr08m5/O3t9XfyXcIF7mBloFDG5ZifIo58bS6rxOclw74k45zkKWyV2HrVMQGMz3G9qLINZMnPFijINj934MZwoi9B4yftdKNq8u5+pArlUzifP3o1/an6NQnOgjFUWK7AO4048lzejTqqusk9rLlBeQIZ5jvAqv3tYt2G75XOdWnIundtrk7Xb9c/+1nH7X4tvYkpbFWWBjrSxKAkn9DHPO+zuL0JOpwXZdWwHNPTriOm08gjyrrzukYH4p1F3AF2AswG6lTf/txcVez2a85qcf3pZifuooouTrAhHM66pZ/uSCxaB911zV+J4fOt65joqagj5rewJYBxeQfnySKeXiCf/G+2J/ZlMWh1we7ziax7XfrbxK69Sa70XFRRgaUS63HfWY/rbGG7Lv+VGBdxVHO3SRx5dPdtC1uSx+ufgKXaShf0Hciqzy7I0oE59UWC1lmiDrQ6R0uz3ZttAx2qrkoKLiVn4BRMCWzX9Rpx7PJ17n4s1T00qo9pWQeWknUwKdl1vVoD1E0Xp2pn87e1gAzZBubJolrQ1MQ5cLgeBiom2NT+ywU6th+9YoB4oWK5kqnw/bQvu67ss428F+sCIm6eXVJ6T8DWya6rD/8ncHHdPwmZumayH9z0MwINYVET7KzfBJurr6xTGmGshez2QJNV4/OT39OfIGOgFGApWC5NwE1gJcfrmgHj8w64ai+Fc/ti+bTs5Fpc7wMrTe/OkpfT3FYK2zbQMaUuhI/9doDh+XXlv6efQpZYtUqd2+jquLK7sFXi92tdfoJrs3DdX1d/C9HpK4TuT/44D+cVODzpnSyBrfTY4mxhQ1gqP30ipANO5V3QZwMZjonPS4Zj2ox/km1hq+Ssl5J1gLH+d4T+UxCSepPOdK3roi9+uhvA50/Aluy7agAIS+I+cnI/Ed4BhueYR530dxu7YAjP7d90HVU99Y4tgQzz7rzaT0CaINtYmNPAx8mDoK7z5ftoKWhVefuOTL1nOwl0JImh5DYURKlFw7oKuut69gdT/4TriEnBxceTfAcY66ULeFMH3d3EcrHszjXtHm06VzcrCXhMgY70c46qH51lY0g2wHWwMXR1nP6JBQLH84hyVdYlpztBhTqqnwxEV5YCxjopeNxOuthd3WRvV/U2biSO4ctnHd0ku3P1L5KSgEcHzBRdZFA6l7H6zOUI2ASckm+O1+VfUE/v/Z5OCBVew4GVHqd8XdsBpGQOMGwrAWsC9A5kU19R/wtoDA7fbAXRBrYqOw10qL6oh4GzbAq6KXyfWrQOMoa15Onvg6SutUpqfjuwlCyFjGXVLwUTnyfyJ6OSaai/u+4EtAWtFLoIobpxnTvYAVcLcPspEGzjuq4X68b9naBDwJSLdwLbdd0L6/PDYJMmuPj8adiuKweMz9WixfbuQraxhpt6peP6Kl1HF4msRlR08br8Tw4k0cVNVJH/XDCng4vdQbzhaHFRJ4Xtus7C+qf7Mpc6uPj8FDZ1v08BUzpq0aq6CTgbXbx2Gjhx/X17e/tPeB8nCvdRm1D+29tb+z+kTwMdSVL/46zSBB2X1/nJ7zbWsYNMWTGGDuVJ6uYtAQzzG9iuq/90COY3wFW7KSSbRT9Bg3VPQeV6X/5tE0/uFrbr6v+HNAc6ko9euYQLHiFRIfwOOoRSQVRj4n3lBFcHGQNW12YZy9Ok6jwJ23Xt3q9tzqttBc6TkCUBk83ebLqeBG0Kxys9TJv/Ic2w1CJNXEmVEDBnifjclSmd5FvUCWQdYCdwubnoZBvYruvZ92sdYEovBQ/b2cJQddNASdrub9CmoMcURTwpm9Id61ZJAe+g4rIOtgS669p9PQbrYfobriOmBK46nubZ9UyA2gC2qf8EZG0whCfZ7d1USspqcW7Am4IczroxTBisUTpTHvXdcfOCmiHjuf8O15HlTgdfEyRw1fEEvLpeCpYrU+1s/tKI4ulD4P393X8yRN2M5P1Y98mQumjnDiaupEoMoJJ3wLm8Ak8dr+v1kyEoq+vynDJ0at5PU9JOB5aS3YUMr5sA1C1g1dYGrKRut5fb/NiP/BUsHEAaBMHyu4EO1+5k3Tp5B5yCSQF1XZcsK3knu67v+8HUKfHL7A7274IN+9KBpGRKzm1t/6b6J2VdnS9fk9mE8mvRJ195SQIrU6oOd9YNIXEyBxy238HG0NUxBa/6gOf8Qjrdl3VzlcjdQ9YBxbIEvOvqw/8nwFWb3wHZqYXr9mrXJf4/2ha29IV05wqmf3xthGMDGJ+r92Woszle1/3voJ08iFzq4OLzBLb0eF17wPhcwdy5cieQnb4nS+Gs68mvyZzA5vZnLj1t3bAsBQzPr+v8W9QbyBRMHWAb6+bmUsknwDC/geu6dJje5dPzTeg/AWz7t4WsHjK/92hsmdzkVSUGygU6nvyOGcKhrNt15f84UJ2rfPepkDuQJYCxZT5JE1x8fgpbpc56JXl3Xm07eL4LsiRgkkL29vZ2vf3P//zPr1pQCAgC41w5LON63R+3eV3Xqj7ujbjdSk53k2cZPzwQCK7X5ZPzp9IE3AlslTafDnH5DWCsl8Cn2pngmupOgRJV7yW8n7iROBG1wDeuoArxJ/Xf3vR+DCcXrRDqY/0kz0e0cpXUa4Lqf+o6PuU2ujZcmTt3sFXqXmBvIcO8AozLN9BhOyd/rv4JZF/eo5XCFrYqr8XkPueYJOW+OpdRlVdy3zFzbqLL8/G6/LeokxfUynXkuXrCbXR1U9gwMViYnyBTZaeAKVnX3pOQpS+01XV/n//v//7vL+faKXeucyWVGzfV4/Zd/Um/01Uupcp3suSI+e7BpCzV33IdOaVgpccpX9d0wGyBeyposnU38doS0J8/f76ANsGWArfdd7n6XRuqjGV1zu2hXiLrjpOs0iYyu4VvYwG7l9gMjJJtIWNZ9WGydh00XO87X2A7wCLI3sT30XASur1XEmE8DeG/vX112dxHlxAIJePz9H2ZknXH68rD+u7TIZV433eaGCTXpoLJ5Z+Arfo2AcbnnexPhv6ngIlr5/8BF6IH4rVI1DcAAAAASUVORK5CYII=\" y=\"-28\"/>\r\n   </g>\r\n   <g id=\"matplotlib.axis_1\">\r\n    <g id=\"xtick_1\">\r\n     <g id=\"line2d_1\">\r\n      <defs>\r\n       <path d=\"M 0 0 \r\nL 0 3.5 \r\n\" id=\"m3a7f8db2b4\" style=\"stroke:#000000;stroke-width:0.8;\"/>\r\n      </defs>\r\n      <g>\r\n       <use style=\"stroke:#000000;stroke-width:0.8;\" x=\"33.39622\" xlink:href=\"#m3a7f8db2b4\" y=\"246\"/>\r\n      </g>\r\n     </g>\r\n     <g id=\"text_1\">\r\n      <!-- 0 -->\r\n      <g transform=\"translate(30.21497 260.598437)scale(0.1 -0.1)\">\r\n       <defs>\r\n        <path d=\"M 31.78125 66.40625 \r\nQ 24.171875 66.40625 20.328125 58.90625 \r\nQ 16.5 51.421875 16.5 36.375 \r\nQ 16.5 21.390625 20.328125 13.890625 \r\nQ 24.171875 6.390625 31.78125 6.390625 \r\nQ 39.453125 6.390625 43.28125 13.890625 \r\nQ 47.125 21.390625 47.125 36.375 \r\nQ 47.125 51.421875 43.28125 58.90625 \r\nQ 39.453125 66.40625 31.78125 66.40625 \r\nz\r\nM 31.78125 74.21875 \r\nQ 44.046875 74.21875 50.515625 64.515625 \r\nQ 56.984375 54.828125 56.984375 36.375 \r\nQ 56.984375 17.96875 50.515625 8.265625 \r\nQ 44.046875 -1.421875 31.78125 -1.421875 \r\nQ 19.53125 -1.421875 13.0625 8.265625 \r\nQ 6.59375 17.96875 6.59375 36.375 \r\nQ 6.59375 54.828125 13.0625 64.515625 \r\nQ 19.53125 74.21875 31.78125 74.21875 \r\nz\r\n\" id=\"DejaVuSans-48\"/>\r\n       </defs>\r\n       <use xlink:href=\"#DejaVuSans-48\"/>\r\n      </g>\r\n     </g>\r\n    </g>\r\n    <g id=\"xtick_2\">\r\n     <g id=\"line2d_2\">\r\n      <g>\r\n       <use style=\"stroke:#000000;stroke-width:0.8;\" x=\"76.88422\" xlink:href=\"#m3a7f8db2b4\" y=\"246\"/>\r\n      </g>\r\n     </g>\r\n     <g id=\"text_2\">\r\n      <!-- 200 -->\r\n      <g transform=\"translate(67.34047 260.598437)scale(0.1 -0.1)\">\r\n       <defs>\r\n        <path d=\"M 19.1875 8.296875 \r\nL 53.609375 8.296875 \r\nL 53.609375 0 \r\nL 7.328125 0 \r\nL 7.328125 8.296875 \r\nQ 12.9375 14.109375 22.625 23.890625 \r\nQ 32.328125 33.6875 34.8125 36.53125 \r\nQ 39.546875 41.84375 41.421875 45.53125 \r\nQ 43.3125 49.21875 43.3125 52.78125 \r\nQ 43.3125 58.59375 39.234375 62.25 \r\nQ 35.15625 65.921875 28.609375 65.921875 \r\nQ 23.96875 65.921875 18.8125 64.3125 \r\nQ 13.671875 62.703125 7.8125 59.421875 \r\nL 7.8125 69.390625 \r\nQ 13.765625 71.78125 18.9375 73 \r\nQ 24.125 74.21875 28.421875 74.21875 \r\nQ 39.75 74.21875 46.484375 68.546875 \r\nQ 53.21875 62.890625 53.21875 53.421875 \r\nQ 53.21875 48.921875 51.53125 44.890625 \r\nQ 49.859375 40.875 45.40625 35.40625 \r\nQ 44.1875 33.984375 37.640625 27.21875 \r\nQ 31.109375 20.453125 19.1875 8.296875 \r\nz\r\n\" id=\"DejaVuSans-50\"/>\r\n       </defs>\r\n       <use xlink:href=\"#DejaVuSans-50\"/>\r\n       <use x=\"63.623047\" xlink:href=\"#DejaVuSans-48\"/>\r\n       <use x=\"127.246094\" xlink:href=\"#DejaVuSans-48\"/>\r\n      </g>\r\n     </g>\r\n    </g>\r\n    <g id=\"xtick_3\">\r\n     <g id=\"line2d_3\">\r\n      <g>\r\n       <use style=\"stroke:#000000;stroke-width:0.8;\" x=\"120.37222\" xlink:href=\"#m3a7f8db2b4\" y=\"246\"/>\r\n      </g>\r\n     </g>\r\n     <g id=\"text_3\">\r\n      <!-- 400 -->\r\n      <g transform=\"translate(110.82847 260.598437)scale(0.1 -0.1)\">\r\n       <defs>\r\n        <path d=\"M 37.796875 64.3125 \r\nL 12.890625 25.390625 \r\nL 37.796875 25.390625 \r\nz\r\nM 35.203125 72.90625 \r\nL 47.609375 72.90625 \r\nL 47.609375 25.390625 \r\nL 58.015625 25.390625 \r\nL 58.015625 17.1875 \r\nL 47.609375 17.1875 \r\nL 47.609375 0 \r\nL 37.796875 0 \r\nL 37.796875 17.1875 \r\nL 4.890625 17.1875 \r\nL 4.890625 26.703125 \r\nz\r\n\" id=\"DejaVuSans-52\"/>\r\n       </defs>\r\n       <use xlink:href=\"#DejaVuSans-52\"/>\r\n       <use x=\"63.623047\" xlink:href=\"#DejaVuSans-48\"/>\r\n       <use x=\"127.246094\" xlink:href=\"#DejaVuSans-48\"/>\r\n      </g>\r\n     </g>\r\n    </g>\r\n    <g id=\"xtick_4\">\r\n     <g id=\"line2d_4\">\r\n      <g>\r\n       <use style=\"stroke:#000000;stroke-width:0.8;\" x=\"163.86022\" xlink:href=\"#m3a7f8db2b4\" y=\"246\"/>\r\n      </g>\r\n     </g>\r\n     <g id=\"text_4\">\r\n      <!-- 600 -->\r\n      <g transform=\"translate(154.31647 260.598437)scale(0.1 -0.1)\">\r\n       <defs>\r\n        <path d=\"M 33.015625 40.375 \r\nQ 26.375 40.375 22.484375 35.828125 \r\nQ 18.609375 31.296875 18.609375 23.390625 \r\nQ 18.609375 15.53125 22.484375 10.953125 \r\nQ 26.375 6.390625 33.015625 6.390625 \r\nQ 39.65625 6.390625 43.53125 10.953125 \r\nQ 47.40625 15.53125 47.40625 23.390625 \r\nQ 47.40625 31.296875 43.53125 35.828125 \r\nQ 39.65625 40.375 33.015625 40.375 \r\nz\r\nM 52.59375 71.296875 \r\nL 52.59375 62.3125 \r\nQ 48.875 64.0625 45.09375 64.984375 \r\nQ 41.3125 65.921875 37.59375 65.921875 \r\nQ 27.828125 65.921875 22.671875 59.328125 \r\nQ 17.53125 52.734375 16.796875 39.40625 \r\nQ 19.671875 43.65625 24.015625 45.921875 \r\nQ 28.375 48.1875 33.59375 48.1875 \r\nQ 44.578125 48.1875 50.953125 41.515625 \r\nQ 57.328125 34.859375 57.328125 23.390625 \r\nQ 57.328125 12.15625 50.6875 5.359375 \r\nQ 44.046875 -1.421875 33.015625 -1.421875 \r\nQ 20.359375 -1.421875 13.671875 8.265625 \r\nQ 6.984375 17.96875 6.984375 36.375 \r\nQ 6.984375 53.65625 15.1875 63.9375 \r\nQ 23.390625 74.21875 37.203125 74.21875 \r\nQ 40.921875 74.21875 44.703125 73.484375 \r\nQ 48.484375 72.75 52.59375 71.296875 \r\nz\r\n\" id=\"DejaVuSans-54\"/>\r\n       </defs>\r\n       <use xlink:href=\"#DejaVuSans-54\"/>\r\n       <use x=\"63.623047\" xlink:href=\"#DejaVuSans-48\"/>\r\n       <use x=\"127.246094\" xlink:href=\"#DejaVuSans-48\"/>\r\n      </g>\r\n     </g>\r\n    </g>\r\n    <g id=\"xtick_5\">\r\n     <g id=\"line2d_5\">\r\n      <g>\r\n       <use style=\"stroke:#000000;stroke-width:0.8;\" x=\"207.34822\" xlink:href=\"#m3a7f8db2b4\" y=\"246\"/>\r\n      </g>\r\n     </g>\r\n     <g id=\"text_5\">\r\n      <!-- 800 -->\r\n      <g transform=\"translate(197.80447 260.598437)scale(0.1 -0.1)\">\r\n       <defs>\r\n        <path d=\"M 31.78125 34.625 \r\nQ 24.75 34.625 20.71875 30.859375 \r\nQ 16.703125 27.09375 16.703125 20.515625 \r\nQ 16.703125 13.921875 20.71875 10.15625 \r\nQ 24.75 6.390625 31.78125 6.390625 \r\nQ 38.8125 6.390625 42.859375 10.171875 \r\nQ 46.921875 13.96875 46.921875 20.515625 \r\nQ 46.921875 27.09375 42.890625 30.859375 \r\nQ 38.875 34.625 31.78125 34.625 \r\nz\r\nM 21.921875 38.8125 \r\nQ 15.578125 40.375 12.03125 44.71875 \r\nQ 8.5 49.078125 8.5 55.328125 \r\nQ 8.5 64.0625 14.71875 69.140625 \r\nQ 20.953125 74.21875 31.78125 74.21875 \r\nQ 42.671875 74.21875 48.875 69.140625 \r\nQ 55.078125 64.0625 55.078125 55.328125 \r\nQ 55.078125 49.078125 51.53125 44.71875 \r\nQ 48 40.375 41.703125 38.8125 \r\nQ 48.828125 37.15625 52.796875 32.3125 \r\nQ 56.78125 27.484375 56.78125 20.515625 \r\nQ 56.78125 9.90625 50.3125 4.234375 \r\nQ 43.84375 -1.421875 31.78125 -1.421875 \r\nQ 19.734375 -1.421875 13.25 4.234375 \r\nQ 6.78125 9.90625 6.78125 20.515625 \r\nQ 6.78125 27.484375 10.78125 32.3125 \r\nQ 14.796875 37.15625 21.921875 38.8125 \r\nz\r\nM 18.3125 54.390625 \r\nQ 18.3125 48.734375 21.84375 45.5625 \r\nQ 25.390625 42.390625 31.78125 42.390625 \r\nQ 38.140625 42.390625 41.71875 45.5625 \r\nQ 45.3125 48.734375 45.3125 54.390625 \r\nQ 45.3125 60.0625 41.71875 63.234375 \r\nQ 38.140625 66.40625 31.78125 66.40625 \r\nQ 25.390625 66.40625 21.84375 63.234375 \r\nQ 18.3125 60.0625 18.3125 54.390625 \r\nz\r\n\" id=\"DejaVuSans-56\"/>\r\n       </defs>\r\n       <use xlink:href=\"#DejaVuSans-56\"/>\r\n       <use x=\"63.623047\" xlink:href=\"#DejaVuSans-48\"/>\r\n       <use x=\"127.246094\" xlink:href=\"#DejaVuSans-48\"/>\r\n      </g>\r\n     </g>\r\n    </g>\r\n   </g>\r\n   <g id=\"matplotlib.axis_2\">\r\n    <g id=\"ytick_1\">\r\n     <g id=\"line2d_6\">\r\n      <defs>\r\n       <path d=\"M 0 0 \r\nL -3.5 0 \r\n\" id=\"m9b338c516f\" style=\"stroke:#000000;stroke-width:0.8;\"/>\r\n      </defs>\r\n      <g>\r\n       <use style=\"stroke:#000000;stroke-width:0.8;\" x=\"33.2875\" xlink:href=\"#m9b338c516f\" y=\"28.66872\"/>\r\n      </g>\r\n     </g>\r\n     <g id=\"text_6\">\r\n      <!-- 0 -->\r\n      <g transform=\"translate(19.925 32.467939)scale(0.1 -0.1)\">\r\n       <use xlink:href=\"#DejaVuSans-48\"/>\r\n      </g>\r\n     </g>\r\n    </g>\r\n    <g id=\"ytick_2\">\r\n     <g id=\"line2d_7\">\r\n      <g>\r\n       <use style=\"stroke:#000000;stroke-width:0.8;\" x=\"33.2875\" xlink:href=\"#m9b338c516f\" y=\"72.15672\"/>\r\n      </g>\r\n     </g>\r\n     <g id=\"text_7\">\r\n      <!-- 200 -->\r\n      <g transform=\"translate(7.2 75.955939)scale(0.1 -0.1)\">\r\n       <use xlink:href=\"#DejaVuSans-50\"/>\r\n       <use x=\"63.623047\" xlink:href=\"#DejaVuSans-48\"/>\r\n       <use x=\"127.246094\" xlink:href=\"#DejaVuSans-48\"/>\r\n      </g>\r\n     </g>\r\n    </g>\r\n    <g id=\"ytick_3\">\r\n     <g id=\"line2d_8\">\r\n      <g>\r\n       <use style=\"stroke:#000000;stroke-width:0.8;\" x=\"33.2875\" xlink:href=\"#m9b338c516f\" y=\"115.64472\"/>\r\n      </g>\r\n     </g>\r\n     <g id=\"text_8\">\r\n      <!-- 400 -->\r\n      <g transform=\"translate(7.2 119.443939)scale(0.1 -0.1)\">\r\n       <use xlink:href=\"#DejaVuSans-52\"/>\r\n       <use x=\"63.623047\" xlink:href=\"#DejaVuSans-48\"/>\r\n       <use x=\"127.246094\" xlink:href=\"#DejaVuSans-48\"/>\r\n      </g>\r\n     </g>\r\n    </g>\r\n    <g id=\"ytick_4\">\r\n     <g id=\"line2d_9\">\r\n      <g>\r\n       <use style=\"stroke:#000000;stroke-width:0.8;\" x=\"33.2875\" xlink:href=\"#m9b338c516f\" y=\"159.13272\"/>\r\n      </g>\r\n     </g>\r\n     <g id=\"text_9\">\r\n      <!-- 600 -->\r\n      <g transform=\"translate(7.2 162.931939)scale(0.1 -0.1)\">\r\n       <use xlink:href=\"#DejaVuSans-54\"/>\r\n       <use x=\"63.623047\" xlink:href=\"#DejaVuSans-48\"/>\r\n       <use x=\"127.246094\" xlink:href=\"#DejaVuSans-48\"/>\r\n      </g>\r\n     </g>\r\n    </g>\r\n    <g id=\"ytick_5\">\r\n     <g id=\"line2d_10\">\r\n      <g>\r\n       <use style=\"stroke:#000000;stroke-width:0.8;\" x=\"33.2875\" xlink:href=\"#m9b338c516f\" y=\"202.62072\"/>\r\n      </g>\r\n     </g>\r\n     <g id=\"text_10\">\r\n      <!-- 800 -->\r\n      <g transform=\"translate(7.2 206.419939)scale(0.1 -0.1)\">\r\n       <use xlink:href=\"#DejaVuSans-56\"/>\r\n       <use x=\"63.623047\" xlink:href=\"#DejaVuSans-48\"/>\r\n       <use x=\"127.246094\" xlink:href=\"#DejaVuSans-48\"/>\r\n      </g>\r\n     </g>\r\n    </g>\r\n   </g>\r\n   <g id=\"patch_3\">\r\n    <path d=\"M 33.2875 246 \r\nL 33.2875 28.56 \r\n\" style=\"fill:none;stroke:#000000;stroke-linecap:square;stroke-linejoin:miter;stroke-width:0.8;\"/>\r\n   </g>\r\n   <g id=\"patch_4\">\r\n    <path d=\"M 250.7275 246 \r\nL 250.7275 28.56 \r\n\" style=\"fill:none;stroke:#000000;stroke-linecap:square;stroke-linejoin:miter;stroke-width:0.8;\"/>\r\n   </g>\r\n   <g id=\"patch_5\">\r\n    <path d=\"M 33.2875 246 \r\nL 250.7275 246 \r\n\" style=\"fill:none;stroke:#000000;stroke-linecap:square;stroke-linejoin:miter;stroke-width:0.8;\"/>\r\n   </g>\r\n   <g id=\"patch_6\">\r\n    <path d=\"M 33.2875 28.56 \r\nL 250.7275 28.56 \r\n\" style=\"fill:none;stroke:#000000;stroke-linecap:square;stroke-linejoin:miter;stroke-width:0.8;\"/>\r\n   </g>\r\n   <g id=\"text_11\">\r\n    <!-- Image plot of $\\sqrt{x^2+y^2}$ for a grid of values -->\r\n    <g transform=\"translate(14.8075 22.56)scale(0.12 -0.12)\">\r\n     <defs>\r\n      <path d=\"M 9.8125 72.90625 \r\nL 19.671875 72.90625 \r\nL 19.671875 0 \r\nL 9.8125 0 \r\nz\r\n\" id=\"DejaVuSans-73\"/>\r\n      <path d=\"M 52 44.1875 \r\nQ 55.375 50.25 60.0625 53.125 \r\nQ 64.75 56 71.09375 56 \r\nQ 79.640625 56 84.28125 50.015625 \r\nQ 88.921875 44.046875 88.921875 33.015625 \r\nL 88.921875 0 \r\nL 79.890625 0 \r\nL 79.890625 32.71875 \r\nQ 79.890625 40.578125 77.09375 44.375 \r\nQ 74.3125 48.1875 68.609375 48.1875 \r\nQ 61.625 48.1875 57.5625 43.546875 \r\nQ 53.515625 38.921875 53.515625 30.90625 \r\nL 53.515625 0 \r\nL 44.484375 0 \r\nL 44.484375 32.71875 \r\nQ 44.484375 40.625 41.703125 44.40625 \r\nQ 38.921875 48.1875 33.109375 48.1875 \r\nQ 26.21875 48.1875 22.15625 43.53125 \r\nQ 18.109375 38.875 18.109375 30.90625 \r\nL 18.109375 0 \r\nL 9.078125 0 \r\nL 9.078125 54.6875 \r\nL 18.109375 54.6875 \r\nL 18.109375 46.1875 \r\nQ 21.1875 51.21875 25.484375 53.609375 \r\nQ 29.78125 56 35.6875 56 \r\nQ 41.65625 56 45.828125 52.96875 \r\nQ 50 49.953125 52 44.1875 \r\nz\r\n\" id=\"DejaVuSans-109\"/>\r\n      <path d=\"M 34.28125 27.484375 \r\nQ 23.390625 27.484375 19.1875 25 \r\nQ 14.984375 22.515625 14.984375 16.5 \r\nQ 14.984375 11.71875 18.140625 8.90625 \r\nQ 21.296875 6.109375 26.703125 6.109375 \r\nQ 34.1875 6.109375 38.703125 11.40625 \r\nQ 43.21875 16.703125 43.21875 25.484375 \r\nL 43.21875 27.484375 \r\nz\r\nM 52.203125 31.203125 \r\nL 52.203125 0 \r\nL 43.21875 0 \r\nL 43.21875 8.296875 \r\nQ 40.140625 3.328125 35.546875 0.953125 \r\nQ 30.953125 -1.421875 24.3125 -1.421875 \r\nQ 15.921875 -1.421875 10.953125 3.296875 \r\nQ 6 8.015625 6 15.921875 \r\nQ 6 25.140625 12.171875 29.828125 \r\nQ 18.359375 34.515625 30.609375 34.515625 \r\nL 43.21875 34.515625 \r\nL 43.21875 35.40625 \r\nQ 43.21875 41.609375 39.140625 45 \r\nQ 35.0625 48.390625 27.6875 48.390625 \r\nQ 23 48.390625 18.546875 47.265625 \r\nQ 14.109375 46.140625 10.015625 43.890625 \r\nL 10.015625 52.203125 \r\nQ 14.9375 54.109375 19.578125 55.046875 \r\nQ 24.21875 56 28.609375 56 \r\nQ 40.484375 56 46.34375 49.84375 \r\nQ 52.203125 43.703125 52.203125 31.203125 \r\nz\r\n\" id=\"DejaVuSans-97\"/>\r\n      <path d=\"M 45.40625 27.984375 \r\nQ 45.40625 37.75 41.375 43.109375 \r\nQ 37.359375 48.484375 30.078125 48.484375 \r\nQ 22.859375 48.484375 18.828125 43.109375 \r\nQ 14.796875 37.75 14.796875 27.984375 \r\nQ 14.796875 18.265625 18.828125 12.890625 \r\nQ 22.859375 7.515625 30.078125 7.515625 \r\nQ 37.359375 7.515625 41.375 12.890625 \r\nQ 45.40625 18.265625 45.40625 27.984375 \r\nz\r\nM 54.390625 6.78125 \r\nQ 54.390625 -7.171875 48.1875 -13.984375 \r\nQ 42 -20.796875 29.203125 -20.796875 \r\nQ 24.46875 -20.796875 20.265625 -20.09375 \r\nQ 16.0625 -19.390625 12.109375 -17.921875 \r\nL 12.109375 -9.1875 \r\nQ 16.0625 -11.328125 19.921875 -12.34375 \r\nQ 23.78125 -13.375 27.78125 -13.375 \r\nQ 36.625 -13.375 41.015625 -8.765625 \r\nQ 45.40625 -4.15625 45.40625 5.171875 \r\nL 45.40625 9.625 \r\nQ 42.625 4.78125 38.28125 2.390625 \r\nQ 33.9375 0 27.875 0 \r\nQ 17.828125 0 11.671875 7.65625 \r\nQ 5.515625 15.328125 5.515625 27.984375 \r\nQ 5.515625 40.671875 11.671875 48.328125 \r\nQ 17.828125 56 27.875 56 \r\nQ 33.9375 56 38.28125 53.609375 \r\nQ 42.625 51.21875 45.40625 46.390625 \r\nL 45.40625 54.6875 \r\nL 54.390625 54.6875 \r\nz\r\n\" id=\"DejaVuSans-103\"/>\r\n      <path d=\"M 56.203125 29.59375 \r\nL 56.203125 25.203125 \r\nL 14.890625 25.203125 \r\nQ 15.484375 15.921875 20.484375 11.0625 \r\nQ 25.484375 6.203125 34.421875 6.203125 \r\nQ 39.59375 6.203125 44.453125 7.46875 \r\nQ 49.3125 8.734375 54.109375 11.28125 \r\nL 54.109375 2.78125 \r\nQ 49.265625 0.734375 44.1875 -0.34375 \r\nQ 39.109375 -1.421875 33.890625 -1.421875 \r\nQ 20.796875 -1.421875 13.15625 6.1875 \r\nQ 5.515625 13.8125 5.515625 26.8125 \r\nQ 5.515625 40.234375 12.765625 48.109375 \r\nQ 20.015625 56 32.328125 56 \r\nQ 43.359375 56 49.78125 48.890625 \r\nQ 56.203125 41.796875 56.203125 29.59375 \r\nz\r\nM 47.21875 32.234375 \r\nQ 47.125 39.59375 43.09375 43.984375 \r\nQ 39.0625 48.390625 32.421875 48.390625 \r\nQ 24.90625 48.390625 20.390625 44.140625 \r\nQ 15.875 39.890625 15.1875 32.171875 \r\nz\r\n\" id=\"DejaVuSans-101\"/>\r\n      <path id=\"DejaVuSans-32\"/>\r\n      <path d=\"M 18.109375 8.203125 \r\nL 18.109375 -20.796875 \r\nL 9.078125 -20.796875 \r\nL 9.078125 54.6875 \r\nL 18.109375 54.6875 \r\nL 18.109375 46.390625 \r\nQ 20.953125 51.265625 25.265625 53.625 \r\nQ 29.59375 56 35.59375 56 \r\nQ 45.5625 56 51.78125 48.09375 \r\nQ 58.015625 40.1875 58.015625 27.296875 \r\nQ 58.015625 14.40625 51.78125 6.484375 \r\nQ 45.5625 -1.421875 35.59375 -1.421875 \r\nQ 29.59375 -1.421875 25.265625 0.953125 \r\nQ 20.953125 3.328125 18.109375 8.203125 \r\nz\r\nM 48.6875 27.296875 \r\nQ 48.6875 37.203125 44.609375 42.84375 \r\nQ 40.53125 48.484375 33.40625 48.484375 \r\nQ 26.265625 48.484375 22.1875 42.84375 \r\nQ 18.109375 37.203125 18.109375 27.296875 \r\nQ 18.109375 17.390625 22.1875 11.75 \r\nQ 26.265625 6.109375 33.40625 6.109375 \r\nQ 40.53125 6.109375 44.609375 11.75 \r\nQ 48.6875 17.390625 48.6875 27.296875 \r\nz\r\n\" id=\"DejaVuSans-112\"/>\r\n      <path d=\"M 9.421875 75.984375 \r\nL 18.40625 75.984375 \r\nL 18.40625 0 \r\nL 9.421875 0 \r\nz\r\n\" id=\"DejaVuSans-108\"/>\r\n      <path d=\"M 30.609375 48.390625 \r\nQ 23.390625 48.390625 19.1875 42.75 \r\nQ 14.984375 37.109375 14.984375 27.296875 \r\nQ 14.984375 17.484375 19.15625 11.84375 \r\nQ 23.34375 6.203125 30.609375 6.203125 \r\nQ 37.796875 6.203125 41.984375 11.859375 \r\nQ 46.1875 17.53125 46.1875 27.296875 \r\nQ 46.1875 37.015625 41.984375 42.703125 \r\nQ 37.796875 48.390625 30.609375 48.390625 \r\nz\r\nM 30.609375 56 \r\nQ 42.328125 56 49.015625 48.375 \r\nQ 55.71875 40.765625 55.71875 27.296875 \r\nQ 55.71875 13.875 49.015625 6.21875 \r\nQ 42.328125 -1.421875 30.609375 -1.421875 \r\nQ 18.84375 -1.421875 12.171875 6.21875 \r\nQ 5.515625 13.875 5.515625 27.296875 \r\nQ 5.515625 40.765625 12.171875 48.375 \r\nQ 18.84375 56 30.609375 56 \r\nz\r\n\" id=\"DejaVuSans-111\"/>\r\n      <path d=\"M 18.3125 70.21875 \r\nL 18.3125 54.6875 \r\nL 36.8125 54.6875 \r\nL 36.8125 47.703125 \r\nL 18.3125 47.703125 \r\nL 18.3125 18.015625 \r\nQ 18.3125 11.328125 20.140625 9.421875 \r\nQ 21.96875 7.515625 27.59375 7.515625 \r\nL 36.8125 7.515625 \r\nL 36.8125 0 \r\nL 27.59375 0 \r\nQ 17.1875 0 13.234375 3.875 \r\nQ 9.28125 7.765625 9.28125 18.015625 \r\nL 9.28125 47.703125 \r\nL 2.6875 47.703125 \r\nL 2.6875 54.6875 \r\nL 9.28125 54.6875 \r\nL 9.28125 70.21875 \r\nz\r\n\" id=\"DejaVuSans-116\"/>\r\n      <path d=\"M 37.109375 75.984375 \r\nL 37.109375 68.5 \r\nL 28.515625 68.5 \r\nQ 23.6875 68.5 21.796875 66.546875 \r\nQ 19.921875 64.59375 19.921875 59.515625 \r\nL 19.921875 54.6875 \r\nL 34.71875 54.6875 \r\nL 34.71875 47.703125 \r\nL 19.921875 47.703125 \r\nL 19.921875 0 \r\nL 10.890625 0 \r\nL 10.890625 47.703125 \r\nL 2.296875 47.703125 \r\nL 2.296875 54.6875 \r\nL 10.890625 54.6875 \r\nL 10.890625 58.5 \r\nQ 10.890625 67.625 15.140625 71.796875 \r\nQ 19.390625 75.984375 28.609375 75.984375 \r\nz\r\n\" id=\"DejaVuSans-102\"/>\r\n      <path d=\"M 108.90625 155.203125 \r\nL 52.703125 -29.5 \r\nL 48.5 -29.5 \r\nL 25.40625 45.59375 \r\nQ 24.296875 49.203125 22.890625 50.796875 \r\nQ 21.5 52.40625 19.203125 52.40625 \r\nQ 15.796875 52.40625 12.40625 49.703125 \r\nL 11.203125 51.703125 \r\nL 27.59375 64.296875 \r\nL 30.09375 64.296875 \r\nL 52.796875 -9.40625 \r\nL 53.203125 -9.40625 \r\nL 103.203125 155.203125 \r\nz\r\n\" id=\"STIXSizeOneSym-Regular-8730\"/>\r\n      <path d=\"M 60.015625 54.6875 \r\nL 34.90625 27.875 \r\nL 50.296875 0 \r\nL 39.984375 0 \r\nL 28.421875 21.6875 \r\nL 8.296875 0 \r\nL -2.59375 0 \r\nL 24.3125 28.8125 \r\nL 10.015625 54.6875 \r\nL 20.3125 54.6875 \r\nL 30.8125 34.90625 \r\nL 49.125 54.6875 \r\nz\r\n\" id=\"DejaVuSans-Oblique-120\"/>\r\n      <path d=\"M 46 62.703125 \r\nL 46 35.5 \r\nL 73.1875 35.5 \r\nL 73.1875 27.203125 \r\nL 46 27.203125 \r\nL 46 0 \r\nL 37.796875 0 \r\nL 37.796875 27.203125 \r\nL 10.59375 27.203125 \r\nL 10.59375 35.5 \r\nL 37.796875 35.5 \r\nL 37.796875 62.703125 \r\nz\r\n\" id=\"DejaVuSans-43\"/>\r\n      <path d=\"M 24.8125 -5.078125 \r\nQ 18.5625 -15.578125 14.625 -18.1875 \r\nQ 10.6875 -20.796875 4.59375 -20.796875 \r\nL -2.484375 -20.796875 \r\nL -0.984375 -13.28125 \r\nL 4.203125 -13.28125 \r\nQ 7.953125 -13.28125 10.59375 -11.234375 \r\nQ 13.234375 -9.1875 16.5 -3.21875 \r\nL 19.28125 2 \r\nL 7.171875 54.6875 \r\nL 16.703125 54.6875 \r\nL 25.78125 12.796875 \r\nL 50.875 54.6875 \r\nL 60.296875 54.6875 \r\nz\r\n\" id=\"DejaVuSans-Oblique-121\"/>\r\n      <path d=\"M 41.109375 46.296875 \r\nQ 39.59375 47.171875 37.8125 47.578125 \r\nQ 36.03125 48 33.890625 48 \r\nQ 26.265625 48 22.1875 43.046875 \r\nQ 18.109375 38.09375 18.109375 28.8125 \r\nL 18.109375 0 \r\nL 9.078125 0 \r\nL 9.078125 54.6875 \r\nL 18.109375 54.6875 \r\nL 18.109375 46.1875 \r\nQ 20.953125 51.171875 25.484375 53.578125 \r\nQ 30.03125 56 36.53125 56 \r\nQ 37.453125 56 38.578125 55.875 \r\nQ 39.703125 55.765625 41.0625 55.515625 \r\nz\r\n\" id=\"DejaVuSans-114\"/>\r\n      <path d=\"M 9.421875 54.6875 \r\nL 18.40625 54.6875 \r\nL 18.40625 0 \r\nL 9.421875 0 \r\nz\r\nM 9.421875 75.984375 \r\nL 18.40625 75.984375 \r\nL 18.40625 64.59375 \r\nL 9.421875 64.59375 \r\nz\r\n\" id=\"DejaVuSans-105\"/>\r\n      <path d=\"M 45.40625 46.390625 \r\nL 45.40625 75.984375 \r\nL 54.390625 75.984375 \r\nL 54.390625 0 \r\nL 45.40625 0 \r\nL 45.40625 8.203125 \r\nQ 42.578125 3.328125 38.25 0.953125 \r\nQ 33.9375 -1.421875 27.875 -1.421875 \r\nQ 17.96875 -1.421875 11.734375 6.484375 \r\nQ 5.515625 14.40625 5.515625 27.296875 \r\nQ 5.515625 40.1875 11.734375 48.09375 \r\nQ 17.96875 56 27.875 56 \r\nQ 33.9375 56 38.25 53.625 \r\nQ 42.578125 51.265625 45.40625 46.390625 \r\nz\r\nM 14.796875 27.296875 \r\nQ 14.796875 17.390625 18.875 11.75 \r\nQ 22.953125 6.109375 30.078125 6.109375 \r\nQ 37.203125 6.109375 41.296875 11.75 \r\nQ 45.40625 17.390625 45.40625 27.296875 \r\nQ 45.40625 37.203125 41.296875 42.84375 \r\nQ 37.203125 48.484375 30.078125 48.484375 \r\nQ 22.953125 48.484375 18.875 42.84375 \r\nQ 14.796875 37.203125 14.796875 27.296875 \r\nz\r\n\" id=\"DejaVuSans-100\"/>\r\n      <path d=\"M 2.984375 54.6875 \r\nL 12.5 54.6875 \r\nL 29.59375 8.796875 \r\nL 46.6875 54.6875 \r\nL 56.203125 54.6875 \r\nL 35.6875 0 \r\nL 23.484375 0 \r\nz\r\n\" id=\"DejaVuSans-118\"/>\r\n      <path d=\"M 8.5 21.578125 \r\nL 8.5 54.6875 \r\nL 17.484375 54.6875 \r\nL 17.484375 21.921875 \r\nQ 17.484375 14.15625 20.5 10.265625 \r\nQ 23.53125 6.390625 29.59375 6.390625 \r\nQ 36.859375 6.390625 41.078125 11.03125 \r\nQ 45.3125 15.671875 45.3125 23.6875 \r\nL 45.3125 54.6875 \r\nL 54.296875 54.6875 \r\nL 54.296875 0 \r\nL 45.3125 0 \r\nL 45.3125 8.40625 \r\nQ 42.046875 3.421875 37.71875 1 \r\nQ 33.40625 -1.421875 27.6875 -1.421875 \r\nQ 18.265625 -1.421875 13.375 4.4375 \r\nQ 8.5 10.296875 8.5 21.578125 \r\nz\r\nM 31.109375 56 \r\nz\r\n\" id=\"DejaVuSans-117\"/>\r\n      <path d=\"M 44.28125 53.078125 \r\nL 44.28125 44.578125 \r\nQ 40.484375 46.53125 36.375 47.5 \r\nQ 32.28125 48.484375 27.875 48.484375 \r\nQ 21.1875 48.484375 17.84375 46.4375 \r\nQ 14.5 44.390625 14.5 40.28125 \r\nQ 14.5 37.15625 16.890625 35.375 \r\nQ 19.28125 33.59375 26.515625 31.984375 \r\nL 29.59375 31.296875 \r\nQ 39.15625 29.25 43.1875 25.515625 \r\nQ 47.21875 21.78125 47.21875 15.09375 \r\nQ 47.21875 7.46875 41.1875 3.015625 \r\nQ 35.15625 -1.421875 24.609375 -1.421875 \r\nQ 20.21875 -1.421875 15.453125 -0.5625 \r\nQ 10.6875 0.296875 5.421875 2 \r\nL 5.421875 11.28125 \r\nQ 10.40625 8.6875 15.234375 7.390625 \r\nQ 20.0625 6.109375 24.8125 6.109375 \r\nQ 31.15625 6.109375 34.5625 8.28125 \r\nQ 37.984375 10.453125 37.984375 14.40625 \r\nQ 37.984375 18.0625 35.515625 20.015625 \r\nQ 33.0625 21.96875 24.703125 23.78125 \r\nL 21.578125 24.515625 \r\nQ 13.234375 26.265625 9.515625 29.90625 \r\nQ 5.8125 33.546875 5.8125 39.890625 \r\nQ 5.8125 47.609375 11.28125 51.796875 \r\nQ 16.75 56 26.8125 56 \r\nQ 31.78125 56 36.171875 55.265625 \r\nQ 40.578125 54.546875 44.28125 53.078125 \r\nz\r\n\" id=\"DejaVuSans-115\"/>\r\n     </defs>\r\n     <use transform=\"translate(0 0.578125)\" xlink:href=\"#DejaVuSans-73\"/>\r\n     <use transform=\"translate(25.867188 0.578125)\" xlink:href=\"#DejaVuSans-109\"/>\r\n     <use transform=\"translate(123.279297 0.578125)\" xlink:href=\"#DejaVuSans-97\"/>\r\n     <use transform=\"translate(184.558594 0.578125)\" xlink:href=\"#DejaVuSans-103\"/>\r\n     <use transform=\"translate(248.035156 0.578125)\" xlink:href=\"#DejaVuSans-101\"/>\r\n     <use transform=\"translate(309.558594 0.578125)\" xlink:href=\"#DejaVuSans-32\"/>\r\n     <use transform=\"translate(341.345703 0.578125)\" xlink:href=\"#DejaVuSans-112\"/>\r\n     <use transform=\"translate(404.822266 0.578125)\" xlink:href=\"#DejaVuSans-108\"/>\r\n     <use transform=\"translate(432.605469 0.578125)\" xlink:href=\"#DejaVuSans-111\"/>\r\n     <use transform=\"translate(493.787109 0.578125)\" xlink:href=\"#DejaVuSans-116\"/>\r\n     <use transform=\"translate(532.996094 0.578125)\" xlink:href=\"#DejaVuSans-32\"/>\r\n     <use transform=\"translate(564.783203 0.578125)\" xlink:href=\"#DejaVuSans-111\"/>\r\n     <use transform=\"translate(625.964844 0.578125)\" xlink:href=\"#DejaVuSans-102\"/>\r\n     <use transform=\"translate(661.169922 0.578125)\" xlink:href=\"#DejaVuSans-32\"/>\r\n     <use transform=\"translate(692.957031 2.5)scale(0.770324)\" xlink:href=\"#STIXSizeOneSym-Regular-8730\"/>\r\n     <use transform=\"translate(786.846024 0.515625)\" xlink:href=\"#DejaVuSans-Oblique-120\"/>\r\n     <use transform=\"translate(850.491857 38.796875)scale(0.7)\" xlink:href=\"#DejaVuSans-50\"/>\r\n     <use transform=\"translate(917.244787 0.515625)\" xlink:href=\"#DejaVuSans-43\"/>\r\n     <use transform=\"translate(1020.516271 0.515625)\" xlink:href=\"#DejaVuSans-Oblique-121\"/>\r\n     <use transform=\"translate(1084.162104 38.796875)scale(0.7)\" xlink:href=\"#DejaVuSans-50\"/>\r\n     <use transform=\"translate(1143.932612 0.578125)\" xlink:href=\"#DejaVuSans-32\"/>\r\n     <use transform=\"translate(1175.719721 0.578125)\" xlink:href=\"#DejaVuSans-102\"/>\r\n     <use transform=\"translate(1210.9248 0.578125)\" xlink:href=\"#DejaVuSans-111\"/>\r\n     <use transform=\"translate(1272.10644 0.578125)\" xlink:href=\"#DejaVuSans-114\"/>\r\n     <use transform=\"translate(1313.219721 0.578125)\" xlink:href=\"#DejaVuSans-32\"/>\r\n     <use transform=\"translate(1345.006831 0.578125)\" xlink:href=\"#DejaVuSans-97\"/>\r\n     <use transform=\"translate(1406.286128 0.578125)\" xlink:href=\"#DejaVuSans-32\"/>\r\n     <use transform=\"translate(1438.073237 0.578125)\" xlink:href=\"#DejaVuSans-103\"/>\r\n     <use transform=\"translate(1501.5498 0.578125)\" xlink:href=\"#DejaVuSans-114\"/>\r\n     <use transform=\"translate(1542.663081 0.578125)\" xlink:href=\"#DejaVuSans-105\"/>\r\n     <use transform=\"translate(1570.446284 0.578125)\" xlink:href=\"#DejaVuSans-100\"/>\r\n     <use transform=\"translate(1633.922846 0.578125)\" xlink:href=\"#DejaVuSans-32\"/>\r\n     <use transform=\"translate(1665.709956 0.578125)\" xlink:href=\"#DejaVuSans-111\"/>\r\n     <use transform=\"translate(1726.891596 0.578125)\" xlink:href=\"#DejaVuSans-102\"/>\r\n     <use transform=\"translate(1762.096675 0.578125)\" xlink:href=\"#DejaVuSans-32\"/>\r\n     <use transform=\"translate(1793.883784 0.578125)\" xlink:href=\"#DejaVuSans-118\"/>\r\n     <use transform=\"translate(1853.063471 0.578125)\" xlink:href=\"#DejaVuSans-97\"/>\r\n     <use transform=\"translate(1914.342768 0.578125)\" xlink:href=\"#DejaVuSans-108\"/>\r\n     <use transform=\"translate(1942.125971 0.578125)\" xlink:href=\"#DejaVuSans-117\"/>\r\n     <use transform=\"translate(2005.504878 0.578125)\" xlink:href=\"#DejaVuSans-101\"/>\r\n     <use transform=\"translate(2067.028315 0.578125)\" xlink:href=\"#DejaVuSans-115\"/>\r\n     <path d=\"M 774.346024 115.5 \r\nL 774.346024 121.75 \r\nL 1143.932612 121.75 \r\nL 1143.932612 115.5 \r\nL 774.346024 115.5 \r\nz\r\n\"/>\r\n    </g>\r\n   </g>\r\n  </g>\r\n  <g id=\"axes_2\">\r\n   <g id=\"patch_7\">\r\n    <path clip-path=\"url(#p640a69d7a8)\" d=\"M 267.4675 246 \r\nL 267.4675 245.150625 \r\nL 267.4675 29.409375 \r\nL 267.4675 28.56 \r\nL 278.3395 28.56 \r\nL 278.3395 29.409375 \r\nL 278.3395 245.150625 \r\nL 278.3395 246 \r\nz\r\n\" style=\"fill:#ffffff;stroke:#ffffff;stroke-linejoin:miter;stroke-width:0.01;\"/>\r\n   </g>\r\n   <image height=\"217\" id=\"image73b655393a\" transform=\"scale(1 -1)translate(0 -217)\" width=\"11\" x=\"267\" xlink:href=\"data:image/png;base64,\r\niVBORw0KGgoAAAANSUhEUgAAAAsAAADZCAYAAAD2WsoCAAAAgklEQVR4nO3QMQrAMBADwcj4/19O2iuNIGCWvXqL0yTJ+xzeTnLa/hmvtW5445JYjRnjNfAD1ahjvAZ+oBozxg9Uo47xGviBatQxXgM/UI06xmvgB6oxY/xANeoYr4EfqEYd4zXwA9WoY7wGfqAadYzXwA9UY8b4gWrUMV4DP5Cu8QHdRgdeRvf/PQAAAABJRU5ErkJggg==\" y=\"-28\"/>\r\n   <g id=\"matplotlib.axis_3\"/>\r\n   <g id=\"matplotlib.axis_4\">\r\n    <g id=\"ytick_6\">\r\n     <g id=\"line2d_11\">\r\n      <defs>\r\n       <path d=\"M 0 0 \r\nL 3.5 0 \r\n\" id=\"mdd972aed40\" style=\"stroke:#000000;stroke-width:0.8;\"/>\r\n      </defs>\r\n      <g>\r\n       <use style=\"stroke:#000000;stroke-width:0.8;\" x=\"278.3395\" xlink:href=\"#mdd972aed40\" y=\"246\"/>\r\n      </g>\r\n     </g>\r\n     <g id=\"text_12\">\r\n      <!-- 0 -->\r\n      <g transform=\"translate(285.3395 249.799219)scale(0.1 -0.1)\">\r\n       <use xlink:href=\"#DejaVuSans-48\"/>\r\n      </g>\r\n     </g>\r\n    </g>\r\n    <g id=\"ytick_7\">\r\n     <g id=\"line2d_12\">\r\n      <g>\r\n       <use style=\"stroke:#000000;stroke-width:0.8;\" x=\"278.3395\" xlink:href=\"#mdd972aed40\" y=\"215.24934\"/>\r\n      </g>\r\n     </g>\r\n     <g id=\"text_13\">\r\n      <!-- 1 -->\r\n      <g transform=\"translate(285.3395 219.048559)scale(0.1 -0.1)\">\r\n       <defs>\r\n        <path d=\"M 12.40625 8.296875 \r\nL 28.515625 8.296875 \r\nL 28.515625 63.921875 \r\nL 10.984375 60.40625 \r\nL 10.984375 69.390625 \r\nL 28.421875 72.90625 \r\nL 38.28125 72.90625 \r\nL 38.28125 8.296875 \r\nL 54.390625 8.296875 \r\nL 54.390625 0 \r\nL 12.40625 0 \r\nz\r\n\" id=\"DejaVuSans-49\"/>\r\n       </defs>\r\n       <use xlink:href=\"#DejaVuSans-49\"/>\r\n      </g>\r\n     </g>\r\n    </g>\r\n    <g id=\"ytick_8\">\r\n     <g id=\"line2d_13\">\r\n      <g>\r\n       <use style=\"stroke:#000000;stroke-width:0.8;\" x=\"278.3395\" xlink:href=\"#mdd972aed40\" y=\"184.498681\"/>\r\n      </g>\r\n     </g>\r\n     <g id=\"text_14\">\r\n      <!-- 2 -->\r\n      <g transform=\"translate(285.3395 188.297899)scale(0.1 -0.1)\">\r\n       <use xlink:href=\"#DejaVuSans-50\"/>\r\n      </g>\r\n     </g>\r\n    </g>\r\n    <g id=\"ytick_9\">\r\n     <g id=\"line2d_14\">\r\n      <g>\r\n       <use style=\"stroke:#000000;stroke-width:0.8;\" x=\"278.3395\" xlink:href=\"#mdd972aed40\" y=\"153.748021\"/>\r\n      </g>\r\n     </g>\r\n     <g id=\"text_15\">\r\n      <!-- 3 -->\r\n      <g transform=\"translate(285.3395 157.54724)scale(0.1 -0.1)\">\r\n       <defs>\r\n        <path d=\"M 40.578125 39.3125 \r\nQ 47.65625 37.796875 51.625 33 \r\nQ 55.609375 28.21875 55.609375 21.1875 \r\nQ 55.609375 10.40625 48.1875 4.484375 \r\nQ 40.765625 -1.421875 27.09375 -1.421875 \r\nQ 22.515625 -1.421875 17.65625 -0.515625 \r\nQ 12.796875 0.390625 7.625 2.203125 \r\nL 7.625 11.71875 \r\nQ 11.71875 9.328125 16.59375 8.109375 \r\nQ 21.484375 6.890625 26.8125 6.890625 \r\nQ 36.078125 6.890625 40.9375 10.546875 \r\nQ 45.796875 14.203125 45.796875 21.1875 \r\nQ 45.796875 27.640625 41.28125 31.265625 \r\nQ 36.765625 34.90625 28.71875 34.90625 \r\nL 20.21875 34.90625 \r\nL 20.21875 43.015625 \r\nL 29.109375 43.015625 \r\nQ 36.375 43.015625 40.234375 45.921875 \r\nQ 44.09375 48.828125 44.09375 54.296875 \r\nQ 44.09375 59.90625 40.109375 62.90625 \r\nQ 36.140625 65.921875 28.71875 65.921875 \r\nQ 24.65625 65.921875 20.015625 65.03125 \r\nQ 15.375 64.15625 9.8125 62.3125 \r\nL 9.8125 71.09375 \r\nQ 15.4375 72.65625 20.34375 73.4375 \r\nQ 25.25 74.21875 29.59375 74.21875 \r\nQ 40.828125 74.21875 47.359375 69.109375 \r\nQ 53.90625 64.015625 53.90625 55.328125 \r\nQ 53.90625 49.265625 50.4375 45.09375 \r\nQ 46.96875 40.921875 40.578125 39.3125 \r\nz\r\n\" id=\"DejaVuSans-51\"/>\r\n       </defs>\r\n       <use xlink:href=\"#DejaVuSans-51\"/>\r\n      </g>\r\n     </g>\r\n    </g>\r\n    <g id=\"ytick_10\">\r\n     <g id=\"line2d_15\">\r\n      <g>\r\n       <use style=\"stroke:#000000;stroke-width:0.8;\" x=\"278.3395\" xlink:href=\"#mdd972aed40\" y=\"122.997361\"/>\r\n      </g>\r\n     </g>\r\n     <g id=\"text_16\">\r\n      <!-- 4 -->\r\n      <g transform=\"translate(285.3395 126.79658)scale(0.1 -0.1)\">\r\n       <use xlink:href=\"#DejaVuSans-52\"/>\r\n      </g>\r\n     </g>\r\n    </g>\r\n    <g id=\"ytick_11\">\r\n     <g id=\"line2d_16\">\r\n      <g>\r\n       <use style=\"stroke:#000000;stroke-width:0.8;\" x=\"278.3395\" xlink:href=\"#mdd972aed40\" y=\"92.246701\"/>\r\n      </g>\r\n     </g>\r\n     <g id=\"text_17\">\r\n      <!-- 5 -->\r\n      <g transform=\"translate(285.3395 96.04592)scale(0.1 -0.1)\">\r\n       <defs>\r\n        <path d=\"M 10.796875 72.90625 \r\nL 49.515625 72.90625 \r\nL 49.515625 64.59375 \r\nL 19.828125 64.59375 \r\nL 19.828125 46.734375 \r\nQ 21.96875 47.46875 24.109375 47.828125 \r\nQ 26.265625 48.1875 28.421875 48.1875 \r\nQ 40.625 48.1875 47.75 41.5 \r\nQ 54.890625 34.8125 54.890625 23.390625 \r\nQ 54.890625 11.625 47.5625 5.09375 \r\nQ 40.234375 -1.421875 26.90625 -1.421875 \r\nQ 22.3125 -1.421875 17.546875 -0.640625 \r\nQ 12.796875 0.140625 7.71875 1.703125 \r\nL 7.71875 11.625 \r\nQ 12.109375 9.234375 16.796875 8.0625 \r\nQ 21.484375 6.890625 26.703125 6.890625 \r\nQ 35.15625 6.890625 40.078125 11.328125 \r\nQ 45.015625 15.765625 45.015625 23.390625 \r\nQ 45.015625 31 40.078125 35.4375 \r\nQ 35.15625 39.890625 26.703125 39.890625 \r\nQ 22.75 39.890625 18.8125 39.015625 \r\nQ 14.890625 38.140625 10.796875 36.28125 \r\nz\r\n\" id=\"DejaVuSans-53\"/>\r\n       </defs>\r\n       <use xlink:href=\"#DejaVuSans-53\"/>\r\n      </g>\r\n     </g>\r\n    </g>\r\n    <g id=\"ytick_12\">\r\n     <g id=\"line2d_17\">\r\n      <g>\r\n       <use style=\"stroke:#000000;stroke-width:0.8;\" x=\"278.3395\" xlink:href=\"#mdd972aed40\" y=\"61.496042\"/>\r\n      </g>\r\n     </g>\r\n     <g id=\"text_18\">\r\n      <!-- 6 -->\r\n      <g transform=\"translate(285.3395 65.295261)scale(0.1 -0.1)\">\r\n       <use xlink:href=\"#DejaVuSans-54\"/>\r\n      </g>\r\n     </g>\r\n    </g>\r\n    <g id=\"ytick_13\">\r\n     <g id=\"line2d_18\">\r\n      <g>\r\n       <use style=\"stroke:#000000;stroke-width:0.8;\" x=\"278.3395\" xlink:href=\"#mdd972aed40\" y=\"30.745382\"/>\r\n      </g>\r\n     </g>\r\n     <g id=\"text_19\">\r\n      <!-- 7 -->\r\n      <g transform=\"translate(285.3395 34.544601)scale(0.1 -0.1)\">\r\n       <defs>\r\n        <path d=\"M 8.203125 72.90625 \r\nL 55.078125 72.90625 \r\nL 55.078125 68.703125 \r\nL 28.609375 0 \r\nL 18.3125 0 \r\nL 43.21875 64.59375 \r\nL 8.203125 64.59375 \r\nz\r\n\" id=\"DejaVuSans-55\"/>\r\n       </defs>\r\n       <use xlink:href=\"#DejaVuSans-55\"/>\r\n      </g>\r\n     </g>\r\n    </g>\r\n   </g>\r\n   <g id=\"patch_8\">\r\n    <path d=\"M 267.4675 246 \r\nL 267.4675 245.150625 \r\nL 267.4675 29.409375 \r\nL 267.4675 28.56 \r\nL 278.3395 28.56 \r\nL 278.3395 29.409375 \r\nL 278.3395 245.150625 \r\nL 278.3395 246 \r\nz\r\n\" style=\"fill:none;stroke:#000000;stroke-linejoin:miter;stroke-width:0.8;\"/>\r\n   </g>\r\n  </g>\r\n </g>\r\n <defs>\r\n  <clipPath id=\"p45bf9977f6\">\r\n   <rect height=\"217.44\" width=\"217.44\" x=\"33.2875\" y=\"28.56\"/>\r\n  </clipPath>\r\n  <clipPath id=\"p640a69d7a8\">\r\n   <rect height=\"217.44\" width=\"10.872\" x=\"267.4675\" y=\"28.56\"/>\r\n  </clipPath>\r\n </defs>\r\n</svg>\r\n",
      "image/png": "[encoded data removed]"
     },
     "metadata": {
      "needs_background": "light"
     }
    }
   ],
   "source": [
    "import matplotlib.pyplot as plt \n",
    "plt.imshow(z,cmap=plt.cm.gray);plt.colorbar()\n",
    "plt.title('Image plot of $\\sqrt{x^2+y^2}$ for a grid of values')"
   ]
  },
  {
   "cell_type": "code",
   "execution_count": 12,
   "metadata": {},
   "outputs": [],
   "source": [
    "xarr = np.array([1.1,1.2,1.3,1.4,1.5])\n",
    "yarr = np.array([2.1,2.2,2.3,2.4,2.5])\n",
    "cond = np.array([True, False, True, True, False])"
   ]
  },
  {
   "cell_type": "code",
   "execution_count": 13,
   "metadata": {},
   "outputs": [
    {
     "output_type": "execute_result",
     "data": {
      "text/plain": [
       "[1.1, 2.2, 1.3, 1.4, 2.5]"
      ]
     },
     "metadata": {},
     "execution_count": 13
    }
   ],
   "source": [
    "result = [(x if c else y) for x,y,c in zip(xarr,yarr, cond)]\n",
    "result"
   ]
  },
  {
   "cell_type": "code",
   "execution_count": 14,
   "metadata": {},
   "outputs": [
    {
     "output_type": "execute_result",
     "data": {
      "text/plain": [
       "array([1.1, 2.2, 1.3, 1.4, 2.5])"
      ]
     },
     "metadata": {},
     "execution_count": 14
    }
   ],
   "source": [
    "result = np.where(cond,xarr,yarr)\n",
    "result"
   ]
  },
  {
   "cell_type": "code",
   "execution_count": 15,
   "metadata": {},
   "outputs": [
    {
     "output_type": "execute_result",
     "data": {
      "text/plain": [
       "array([[0.73332316, 0.1982971 , 0.84252413, 0.17768111],\n",
       "       [0.65708273, 0.15651068, 0.07589753, 0.25026038],\n",
       "       [0.18070851, 0.07914495, 0.78994778, 0.40992989],\n",
       "       [0.72350616, 0.16398468, 0.99944868, 0.10230644]])"
      ]
     },
     "metadata": {},
     "execution_count": 15
    }
   ],
   "source": [
    "arr = np.random.rand(4,4)\n",
    "arr"
   ]
  },
  {
   "cell_type": "code",
   "execution_count": 18,
   "metadata": {},
   "outputs": [
    {
     "output_type": "execute_result",
     "data": {
      "text/plain": [
       "array([[ True,  True,  True,  True],\n",
       "       [ True,  True, False,  True],\n",
       "       [ True, False,  True,  True],\n",
       "       [ True,  True,  True,  True]])"
      ]
     },
     "metadata": {},
     "execution_count": 18
    }
   ],
   "source": [
    "arr>0.1"
   ]
  },
  {
   "cell_type": "code",
   "execution_count": 20,
   "metadata": {},
   "outputs": [
    {
     "output_type": "execute_result",
     "data": {
      "text/plain": [
       "array([[ 2,  2,  2,  2],\n",
       "       [ 2,  2, -2,  2],\n",
       "       [ 2, -2,  2,  2],\n",
       "       [ 2,  2,  2,  2]])"
      ]
     },
     "metadata": {},
     "execution_count": 20
    }
   ],
   "source": [
    "#used very ofen when cleaning data to replace values based on conditions\n",
    "np.where(arr>0.1,2,-2)"
   ]
  },
  {
   "cell_type": "code",
   "execution_count": 21,
   "metadata": {},
   "outputs": [
    {
     "output_type": "execute_result",
     "data": {
      "text/plain": [
       "array([[2.22000000e+02, 2.22000000e+02, 2.22000000e+02, 2.22000000e+02],\n",
       "       [2.22000000e+02, 2.22000000e+02, 7.58975290e-02, 2.22000000e+02],\n",
       "       [2.22000000e+02, 7.91449451e-02, 2.22000000e+02, 2.22000000e+02],\n",
       "       [2.22000000e+02, 2.22000000e+02, 2.22000000e+02, 2.22000000e+02]])"
      ]
     },
     "metadata": {},
     "execution_count": 21
    }
   ],
   "source": [
    "np.where(arr>0.1,222,arr)"
   ]
  },
  {
   "source": [
    "### mathmatical and statistical methods"
   ],
   "cell_type": "markdown",
   "metadata": {}
  },
  {
   "cell_type": "code",
   "execution_count": 22,
   "metadata": {},
   "outputs": [
    {
     "output_type": "execute_result",
     "data": {
      "text/plain": [
       "21"
      ]
     },
     "metadata": {},
     "execution_count": 22
    }
   ],
   "source": [
    "arr = np.array([0,1,2,3,4,5,6])\n",
    "arr.sum()"
   ]
  },
  {
   "cell_type": "code",
   "execution_count": 23,
   "metadata": {},
   "outputs": [
    {
     "output_type": "execute_result",
     "data": {
      "text/plain": [
       "3.0"
      ]
     },
     "metadata": {},
     "execution_count": 23
    }
   ],
   "source": [
    "np.mean(arr)"
   ]
  },
  {
   "cell_type": "code",
   "execution_count": 24,
   "metadata": {},
   "outputs": [
    {
     "output_type": "execute_result",
     "data": {
      "text/plain": [
       "3.0"
      ]
     },
     "metadata": {},
     "execution_count": 24
    }
   ],
   "source": [
    "#arr.mean()=np.mean(arr)\n",
    "arr.mean()"
   ]
  },
  {
   "cell_type": "code",
   "execution_count": 26,
   "metadata": {},
   "outputs": [
    {
     "output_type": "execute_result",
     "data": {
      "text/plain": [
       "array([[ 0.47863375,  1.86622306,  0.57076778,  0.9391767 ,  0.77657048],\n",
       "       [ 0.53578647,  0.02887056,  1.47084278, -0.69730402,  0.90259678],\n",
       "       [-1.33377667, -3.02869729,  0.02232208, -1.83775363,  1.69151722],\n",
       "       [-0.62657634, -2.07308898,  1.05389484, -0.44301663, -1.29569653]])"
      ]
     },
     "metadata": {},
     "execution_count": 26
    }
   ],
   "source": [
    "arr = np.random.randn(4,5)\n",
    "arr"
   ]
  },
  {
   "cell_type": "code",
   "execution_count": 27,
   "metadata": {},
   "outputs": [
    {
     "output_type": "execute_result",
     "data": {
      "text/plain": [
       "array([-0.94593279, -3.20669265,  3.11782747, -2.03889758,  2.07498795])"
      ]
     },
     "metadata": {},
     "execution_count": 27
    }
   ],
   "source": [
    "#sum over rows\n",
    "arr.sum(axis=0)"
   ]
  },
  {
   "cell_type": "code",
   "execution_count": 28,
   "metadata": {},
   "outputs": [
    {
     "output_type": "execute_result",
     "data": {
      "text/plain": [
       "array([ 0.92627435,  0.44815851, -0.89727766, -0.67689673])"
      ]
     },
     "metadata": {},
     "execution_count": 28
    }
   ],
   "source": [
    "arr.mean(axis=1)"
   ]
  },
  {
   "cell_type": "code",
   "execution_count": 34,
   "metadata": {},
   "outputs": [],
   "source": [
    "arr = np.array([[0,1,2],[3,4,5],[6,7,8]])"
   ]
  },
  {
   "cell_type": "code",
   "execution_count": 35,
   "metadata": {},
   "outputs": [
    {
     "output_type": "execute_result",
     "data": {
      "text/plain": [
       "array([[ 0,  1,  2],\n",
       "       [ 3,  5,  7],\n",
       "       [ 9, 12, 15]], dtype=int32)"
      ]
     },
     "metadata": {},
     "execution_count": 35
    }
   ],
   "source": [
    "#arr.cumsum(): producing an array of the intermediate results: accumulated sum\n",
    "arr.cumsum(axis=0)"
   ]
  },
  {
   "cell_type": "code",
   "execution_count": 37,
   "metadata": {},
   "outputs": [
    {
     "output_type": "execute_result",
     "data": {
      "text/plain": [
       "array([[ 0,  1,  2],\n",
       "       [ 0,  4, 10],\n",
       "       [ 0, 28, 80]], dtype=int32)"
      ]
     },
     "metadata": {},
     "execution_count": 37
    }
   ],
   "source": [
    "#arr.cumprod(): producing an array of the intermediate results: accumulated product\n",
    "arr.cumprod(axis=0)"
   ]
  },
  {
   "cell_type": "code",
   "execution_count": 38,
   "metadata": {},
   "outputs": [
    {
     "output_type": "execute_result",
     "data": {
      "text/plain": [
       "0"
      ]
     },
     "metadata": {},
     "execution_count": 38
    }
   ],
   "source": [
    "#the index of the min value\n",
    "arr.argmin()"
   ]
  },
  {
   "cell_type": "code",
   "execution_count": 39,
   "metadata": {},
   "outputs": [
    {
     "output_type": "execute_result",
     "data": {
      "text/plain": [
       "8"
      ]
     },
     "metadata": {},
     "execution_count": 39
    }
   ],
   "source": [
    "#the index of the max value\n",
    "arr.argmax()"
   ]
  },
  {
   "cell_type": "code",
   "execution_count": 40,
   "metadata": {},
   "outputs": [
    {
     "output_type": "execute_result",
     "data": {
      "text/plain": [
       "2.581988897471611"
      ]
     },
     "metadata": {},
     "execution_count": 40
    }
   ],
   "source": [
    "#standard deviation\n",
    "arr.std()"
   ]
  },
  {
   "cell_type": "code",
   "execution_count": 41,
   "metadata": {},
   "outputs": [
    {
     "output_type": "execute_result",
     "data": {
      "text/plain": [
       "6.666666666666667"
      ]
     },
     "metadata": {},
     "execution_count": 41
    }
   ],
   "source": [
    "#variance\n",
    "arr.var()"
   ]
  },
  {
   "source": [
    "#### methods for boolean arrays"
   ],
   "cell_type": "markdown",
   "metadata": {}
  },
  {
   "cell_type": "code",
   "execution_count": 43,
   "metadata": {},
   "outputs": [
    {
     "output_type": "execute_result",
     "data": {
      "text/plain": [
       "array([-2.01562806,  0.65119326,  1.17061425,  0.50249153, -1.02740477,\n",
       "        1.19459118,  1.03733281, -0.24693166, -0.63055532, -0.16419197,\n",
       "       -0.05189394,  0.42591225,  0.63700891,  0.12479197, -1.54626086,\n",
       "       -2.15044887,  2.486191  , -0.23732348,  0.24390799,  1.63518675,\n",
       "       -0.75262034,  0.01419648, -1.47366634, -0.4190746 , -0.31177487,\n",
       "       -1.83900691, -0.20046496, -0.01007145,  0.41227471,  0.67526075,\n",
       "        0.16142017,  0.71961681, -1.82741708,  0.89140889, -0.40435473,\n",
       "        0.4482403 ,  0.74497406,  0.56344603,  1.21291127,  0.44928441,\n",
       "       -0.99333934, -0.95066114, -0.00729301, -1.62819628,  0.95807003,\n",
       "       -0.8905629 , -0.35452055,  0.10473709,  0.17531299,  0.04036796,\n",
       "       -0.04341033, -0.45508011, -0.14023446,  1.0531385 ,  0.14995904,\n",
       "        0.07210009,  0.00859089, -0.44544931,  0.07638388, -0.09012025,\n",
       "        0.04227221, -1.05443693, -0.23805823, -0.58128097,  0.97091915,\n",
       "       -1.10398635,  1.09608786,  0.33425037,  0.92496393, -0.38862217,\n",
       "       -0.00299703,  0.30055196, -0.2059259 ,  1.25044418, -0.05463413,\n",
       "        0.85971007, -0.34504909, -2.22688561,  0.90740926,  0.48035693,\n",
       "       -0.78292993,  0.22682412, -0.0742921 ,  0.9923241 , -1.06440398,\n",
       "        0.21720634,  0.11463216, -0.58181418,  0.80598939,  1.8849558 ,\n",
       "        0.04552115,  2.08275069,  1.56434845, -1.40064831, -1.03885818,\n",
       "       -1.25947079, -1.15562198, -0.88525286,  1.47318212,  2.04548434])"
      ]
     },
     "metadata": {},
     "execution_count": 43
    }
   ],
   "source": [
    "arr = np.random.randn(100)\n",
    "arr"
   ]
  },
  {
   "cell_type": "code",
   "execution_count": 44,
   "metadata": {},
   "outputs": [
    {
     "output_type": "execute_result",
     "data": {
      "text/plain": [
       "52"
      ]
     },
     "metadata": {},
     "execution_count": 44
    }
   ],
   "source": [
    "#arr.sum() to count True values\n",
    "(arr>0).sum()"
   ]
  },
  {
   "cell_type": "code",
   "execution_count": 45,
   "metadata": {},
   "outputs": [
    {
     "output_type": "execute_result",
     "data": {
      "text/plain": [
       "False"
      ]
     },
     "metadata": {},
     "execution_count": 45
    }
   ],
   "source": [
    "#arr.all(): whether all values are True\n",
    "boo = np.array([True, False, True])\n",
    "boo.all()"
   ]
  },
  {
   "cell_type": "code",
   "execution_count": 46,
   "metadata": {},
   "outputs": [
    {
     "output_type": "execute_result",
     "data": {
      "text/plain": [
       "True"
      ]
     },
     "metadata": {},
     "execution_count": 46
    }
   ],
   "source": [
    "##arr.any(): whether 1 or more values in an array is True\n",
    "boo.any()"
   ]
  },
  {
   "cell_type": "code",
   "execution_count": 47,
   "metadata": {},
   "outputs": [
    {
     "output_type": "execute_result",
     "data": {
      "text/plain": [
       "False"
      ]
     },
     "metadata": {},
     "execution_count": 47
    }
   ],
   "source": [
    "#if arr is not boolean array, non-zera element = True\n",
    "arr = np.array([0,0,1,2,3])\n",
    "arr.all()"
   ]
  },
  {
   "cell_type": "code",
   "execution_count": 48,
   "metadata": {},
   "outputs": [
    {
     "output_type": "execute_result",
     "data": {
      "text/plain": [
       "True"
      ]
     },
     "metadata": {},
     "execution_count": 48
    }
   ],
   "source": [
    "arr.any()"
   ]
  },
  {
   "source": [
    "##### sorting"
   ],
   "cell_type": "markdown",
   "metadata": {}
  },
  {
   "cell_type": "code",
   "execution_count": 51,
   "metadata": {},
   "outputs": [
    {
     "output_type": "execute_result",
     "data": {
      "text/plain": [
       "array([1. , 2.9, 3. , 5.4])"
      ]
     },
     "metadata": {},
     "execution_count": 51
    }
   ],
   "source": [
    "arr = np.array([3,1,5.4,2.9])\n",
    "arr.sort()\n",
    "arr"
   ]
  },
  {
   "cell_type": "code",
   "execution_count": 53,
   "metadata": {},
   "outputs": [
    {
     "output_type": "execute_result",
     "data": {
      "text/plain": [
       "array([[-0.83761719,  0.55819727,  1.3009556 ],\n",
       "       [-0.43497562,  0.08287528,  1.38846633]])"
      ]
     },
     "metadata": {},
     "execution_count": 53
    }
   ],
   "source": [
    "# axis=1 to define the sorting dimension\n",
    "arr = np.random.randn(2,3)\n",
    "arr.sort(1)\n",
    "arr"
   ]
  },
  {
   "source": [
    "#### Unique and other set logic"
   ],
   "cell_type": "markdown",
   "metadata": {}
  },
  {
   "cell_type": "code",
   "execution_count": 63,
   "metadata": {},
   "outputs": [
    {
     "output_type": "execute_result",
     "data": {
      "text/plain": [
       "array(['Bob', 'Joe', 'Will'], dtype='<U4')"
      ]
     },
     "metadata": {},
     "execution_count": 63
    }
   ],
   "source": [
    "#np.unique()\n",
    "names = np.array(['Bob','Joe','Will','Bob','Will','Joe','Joe'])\n",
    "np.unique(names)\n"
   ]
  },
  {
   "cell_type": "code",
   "execution_count": 64,
   "metadata": {},
   "outputs": [
    {
     "output_type": "execute_result",
     "data": {
      "text/plain": [
       "['Bob', 'Joe', 'Will']"
      ]
     },
     "metadata": {},
     "execution_count": 64
    }
   ],
   "source": [
    "sorted(set(names))"
   ]
  },
  {
   "cell_type": "code",
   "execution_count": 65,
   "metadata": {},
   "outputs": [
    {
     "output_type": "execute_result",
     "data": {
      "text/plain": [
       "['Bob', 'Joe', 'Will']"
      ]
     },
     "metadata": {},
     "execution_count": 65
    }
   ],
   "source": [
    "sorted(np.unique(names))"
   ]
  },
  {
   "cell_type": "code",
   "execution_count": 66,
   "metadata": {},
   "outputs": [
    {
     "output_type": "execute_result",
     "data": {
      "text/plain": [
       "array([ True, False, False,  True,  True, False,  True])"
      ]
     },
     "metadata": {},
     "execution_count": 66
    }
   ],
   "source": [
    "#np.in1d: Compute a boolean array indicating whether each element of x is contained in y\n",
    "vales = np.array([6,0,0,3,2,5,6])\n",
    "np.in1d(vales, [2,3,6])"
   ]
  },
  {
   "cell_type": "code",
   "execution_count": 68,
   "metadata": {},
   "outputs": [
    {
     "output_type": "execute_result",
     "data": {
      "text/plain": [
       "array([2, 3, 6])"
      ]
     },
     "metadata": {},
     "execution_count": 68
    }
   ],
   "source": [
    "#Compute the sorted, common elements in x and y\n",
    "np.intersect1d(vales, [2,3,6])"
   ]
  },
  {
   "cell_type": "code",
   "execution_count": 69,
   "metadata": {},
   "outputs": [
    {
     "output_type": "execute_result",
     "data": {
      "text/plain": [
       "array([0, 2, 3, 5, 6])"
      ]
     },
     "metadata": {},
     "execution_count": 69
    }
   ],
   "source": [
    "#Compute the sorted union of element\n",
    "np.union1d(vales, [2,3,6])"
   ]
  },
  {
   "cell_type": "code",
   "execution_count": 70,
   "metadata": {},
   "outputs": [
    {
     "output_type": "execute_result",
     "data": {
      "text/plain": [
       "array([0, 5])"
      ]
     },
     "metadata": {},
     "execution_count": 70
    }
   ],
   "source": [
    "#Set difference, elements in x that are not in y\n",
    "np.setdiff1d(vales, [2,3,6])"
   ]
  },
  {
   "cell_type": "code",
   "execution_count": 71,
   "metadata": {},
   "outputs": [
    {
     "output_type": "execute_result",
     "data": {
      "text/plain": [
       "array([0, 5])"
      ]
     },
     "metadata": {},
     "execution_count": 71
    }
   ],
   "source": [
    "#Set symmetric differences; elements that are in either of the arrays, but not both\n",
    "np.setxor1d(vales, [2,3,6])"
   ]
  },
  {
   "cell_type": "code",
   "execution_count": null,
   "metadata": {},
   "outputs": [],
   "source": []
  }
 ],
 "metadata": {
  "kernelspec": {
   "name": "Python 3.7.8 64-bit",
   "display_name": "Python 3.7.8 64-bit",
   "metadata": {
    "interpreter": {
     "hash": "b9e64674f0f4c83df40e85473452386f3bf33b9dd36f19f560b86d330c2fce33"
    }
   }
  },
  "language_info": {
   "codemirror_mode": {
    "name": "ipython",
    "version": 3
   },
   "file_extension": ".py",
   "mimetype": "text/x-python",
   "name": "python",
   "nbconvert_exporter": "python",
   "pygments_lexer": "ipython3",
   "version": "3.7.8-final"
  }
 },
 "nbformat": 4,
 "nbformat_minor": 4
}